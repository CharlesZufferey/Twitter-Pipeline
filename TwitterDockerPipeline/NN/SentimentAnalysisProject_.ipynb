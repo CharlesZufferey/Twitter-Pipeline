{
 "cells": [
  {
   "cell_type": "markdown",
   "metadata": {},
   "source": [
    "# Sentiment Analysis with a LSTM Neural Network"
   ]
  },
  {
   "cell_type": "code",
   "execution_count": 2,
   "metadata": {},
   "outputs": [
    {
     "name": "stderr",
     "output_type": "stream",
     "text": [
      "Using TensorFlow backend.\n"
     ]
    }
   ],
   "source": [
    "import spacy\n",
    "import numpy as np\n",
    "import csv\n",
    "from keras.preprocessing.text import Tokenizer\n",
    "from keras.preprocessing.sequence import pad_sequences\n",
    "from keras.utils import to_categorical\n",
    "from keras.layers import Dense, Input, GlobalMaxPooling1D, LSTM, SpatialDropout1D\n",
    "from keras.layers import Conv1D, MaxPooling1D, Embedding\n",
    "from keras.models import  Sequential\n",
    "from keras import backend as K\n",
    "from keras.callbacks import TensorBoard"
   ]
  },
  {
   "cell_type": "code",
   "execution_count": 3,
   "metadata": {},
   "outputs": [],
   "source": [
    "nlp = spacy.load('en_core_web_sm')"
   ]
  },
  {
   "cell_type": "markdown",
   "metadata": {},
   "source": [
    "## Data Wrangling\n",
    "read the training data"
   ]
  },
  {
   "cell_type": "code",
   "execution_count": 4,
   "metadata": {},
   "outputs": [],
   "source": [
    "path = \"data/train.tsv\"\n",
    "with open(path, 'rt') as csvfile:\n",
    "    reader = csv.reader(csvfile, delimiter='\\t')\n",
    "    data = np.array(list(reader))"
   ]
  },
  {
   "cell_type": "code",
   "execution_count": 5,
   "metadata": {},
   "outputs": [],
   "source": [
    "xtrain = data[1:,:][:,2]\n",
    "ytrain = data[1:,:][:,3]\n",
    "ytrain_categorical = to_categorical(ytrain) # one-hot encoding ytrain"
   ]
  },
  {
   "cell_type": "code",
   "execution_count": 6,
   "metadata": {},
   "outputs": [],
   "source": [
    "# basic NLP: tokenization"
   ]
  },
  {
   "cell_type": "code",
   "execution_count": 7,
   "metadata": {},
   "outputs": [],
   "source": [
    "MAX_NUM_WORDS = 16000\n",
    "tokenizer = Tokenizer(num_words = MAX_NUM_WORDS)\n",
    "tokenizer.fit_on_texts(xtrain)\n",
    "sequences = tokenizer.texts_to_sequences(xtrain)"
   ]
  },
  {
   "cell_type": "markdown",
   "metadata": {},
   "source": [
    "### padding\n",
    "\n",
    "too short sentences:\n",
    "    \n",
    "`a really good --> a really good PAD PAD PAD PAD PAD .. maxlenght`"
   ]
  },
  {
   "cell_type": "markdown",
   "metadata": {},
   "source": [
    "**TODO: try a smaller max length (10 tokens)**"
   ]
  },
  {
   "cell_type": "code",
   "execution_count": 18,
   "metadata": {},
   "outputs": [],
   "source": [
    "MAX_SEQUENCE_LENGTH = len(max(xtrain, key = len))\n",
    "xtrain_padded = pad_sequences(sequences, maxlen=MAX_SEQUENCE_LENGTH, padding = \"post\")"
   ]
  },
  {
   "cell_type": "code",
   "execution_count": 34,
   "metadata": {},
   "outputs": [],
   "source": [
    "word_index = tokenizer.word_index\n",
    "EMBEDDING_DIM = 96 # vector length in spacy model"
   ]
  },
  {
   "cell_type": "markdown",
   "metadata": {},
   "source": [
    "### Embedding\n",
    "\n",
    "* look up all words from the vocabulary in spacy\n",
    "* build a huge lookup dictionary {'word': vector}"
   ]
  },
  {
   "cell_type": "code",
   "execution_count": 35,
   "metadata": {},
   "outputs": [],
   "source": [
    "# prepare embedding matrix\n",
    "num_words = min(MAX_NUM_WORDS, len(word_index) + 1)\n",
    "embedding_matrix = np.zeros((num_words, EMBEDDING_DIM))"
   ]
  },
  {
   "cell_type": "code",
   "execution_count": 23,
   "metadata": {},
   "outputs": [],
   "source": [
    "for word, i in word_index.items():\n",
    "    token = nlp(word)\n",
    "    "
   ]
  },
  {
   "cell_type": "code",
   "execution_count": 33,
   "metadata": {},
   "outputs": [
    {
     "data": {
      "text/plain": [
       "(300,)"
      ]
     },
     "execution_count": 33,
     "metadata": {},
     "output_type": "execute_result"
    }
   ],
   "source": [
    "embedding_vector.shape\n",
    "embedding_matrix.shape\n",
    "embedding_matrix[1].shape"
   ]
  },
  {
   "cell_type": "code",
   "execution_count": 36,
   "metadata": {},
   "outputs": [],
   "source": [
    "for word, i in word_index.items():\n",
    "    if i >= MAX_NUM_WORDS:\n",
    "        continue\n",
    "    token = nlp(word)\n",
    "    embedding_vector = token.vector  #getting vector form spacy\n",
    "    if embedding_vector is not None:\n",
    "        # words not found in embedding index will be all-zeros.\n",
    "        embedding_matrix[i] = embedding_vector"
   ]
  },
  {
   "cell_type": "markdown",
   "metadata": {},
   "source": [
    "### Model definition"
   ]
  },
  {
   "cell_type": "code",
   "execution_count": 37,
   "metadata": {},
   "outputs": [],
   "source": [
    "K.clear_session()\n",
    "model = Sequential([\n",
    "    Embedding(num_words, EMBEDDING_DIM, weights=[embedding_matrix], \\\n",
    "              input_length=MAX_SEQUENCE_LENGTH, trainable=False), # using Spacy weights\n",
    "    SpatialDropout1D(0.2), # regularization\n",
    "    LSTM(16, # neurons for interpreting sentence converted to Word Vectors\n",
    "         # 16 neurons working in parallel\n",
    "         # TUNE THIS HYPERPARAMETER\n",
    "         recurrent_activation='hard_sigmoid', \n",
    "         use_bias=True, \n",
    "         kernel_initializer='glorot_uniform', \n",
    "         recurrent_initializer='orthogonal', \n",
    "         bias_initializer='zeros',\n",
    "         dropout=0.2, # regularization\n",
    "         recurrent_dropout=0.2),\n",
    "    # produce output probabilities (mutually exclusive, add up to 1)\n",
    "    Dense(5, activation = \"softmax\"),\n",
    "])\n"
   ]
  },
  {
   "cell_type": "markdown",
   "metadata": {},
   "source": [
    "Loss functions:\n",
    "\n",
    "* binary cross-entropy (logloss): binary classification\n",
    "* categorical cross-entropy: mutually exclusive multiclass classification (with softmax)\n",
    "* MSE - regression\n",
    "* other - read it in research papers"
   ]
  },
  {
   "cell_type": "code",
   "execution_count": 38,
   "metadata": {},
   "outputs": [],
   "source": [
    "# builds a computation graph\n",
    "# here we could deploy on which CPU/GPU/server the model is running\n",
    "model.compile(loss='categorical_crossentropy',\n",
    "              optimizer='adam',\n",
    "              metrics=['accuracy'])"
   ]
  },
  {
   "cell_type": "code",
   "execution_count": 40,
   "metadata": {},
   "outputs": [
    {
     "name": "stdout",
     "output_type": "stream",
     "text": [
      "Train on 124848 samples, validate on 31212 samples\n",
      "Epoch 1/10\n",
      "124848/124848 [==============================] - ETA: 9:14 - loss: 1.6094 - accuracy: 0.04 - ETA: 7:33 - loss: 1.6086 - accuracy: 0.28 - ETA: 6:57 - loss: 1.6077 - accuracy: 0.36 - ETA: 6:29 - loss: 1.6070 - accuracy: 0.39 - ETA: 6:14 - loss: 1.6061 - accuracy: 0.42 - ETA: 6:07 - loss: 1.6053 - accuracy: 0.43 - ETA: 6:01 - loss: 1.6044 - accuracy: 0.44 - ETA: 5:57 - loss: 1.6035 - accuracy: 0.45 - ETA: 5:55 - loss: 1.6027 - accuracy: 0.46 - ETA: 5:53 - loss: 1.6017 - accuracy: 0.46 - ETA: 5:49 - loss: 1.6009 - accuracy: 0.46 - ETA: 5:45 - loss: 1.6000 - accuracy: 0.47 - ETA: 5:43 - loss: 1.5990 - accuracy: 0.47 - ETA: 5:40 - loss: 1.5979 - accuracy: 0.47 - ETA: 5:38 - loss: 1.5970 - accuracy: 0.47 - ETA: 5:41 - loss: 1.5960 - accuracy: 0.48 - ETA: 5:39 - loss: 1.5950 - accuracy: 0.48 - ETA: 5:36 - loss: 1.5940 - accuracy: 0.48 - ETA: 5:34 - loss: 1.5929 - accuracy: 0.48 - ETA: 5:31 - loss: 1.5917 - accuracy: 0.48 - ETA: 5:29 - loss: 1.5905 - accuracy: 0.49 - ETA: 5:26 - loss: 1.5893 - accuracy: 0.49 - ETA: 5:25 - loss: 1.5881 - accuracy: 0.49 - ETA: 5:24 - loss: 1.5869 - accuracy: 0.49 - ETA: 5:20 - loss: 1.5855 - accuracy: 0.49 - ETA: 5:18 - loss: 1.5843 - accuracy: 0.49 - ETA: 5:14 - loss: 1.5829 - accuracy: 0.49 - ETA: 5:12 - loss: 1.5815 - accuracy: 0.49 - ETA: 5:10 - loss: 1.5800 - accuracy: 0.49 - ETA: 5:07 - loss: 1.5784 - accuracy: 0.49 - ETA: 5:04 - loss: 1.5769 - accuracy: 0.49 - ETA: 5:01 - loss: 1.5752 - accuracy: 0.49 - ETA: 4:58 - loss: 1.5736 - accuracy: 0.49 - ETA: 4:55 - loss: 1.5716 - accuracy: 0.49 - ETA: 4:53 - loss: 1.5697 - accuracy: 0.49 - ETA: 4:50 - loss: 1.5676 - accuracy: 0.49 - ETA: 4:47 - loss: 1.5657 - accuracy: 0.49 - ETA: 4:44 - loss: 1.5632 - accuracy: 0.49 - ETA: 4:41 - loss: 1.5608 - accuracy: 0.49 - ETA: 4:38 - loss: 1.5577 - accuracy: 0.49 - ETA: 4:35 - loss: 1.5546 - accuracy: 0.50 - ETA: 4:32 - loss: 1.5512 - accuracy: 0.50 - ETA: 4:29 - loss: 1.5479 - accuracy: 0.50 - ETA: 4:26 - loss: 1.5447 - accuracy: 0.50 - ETA: 4:23 - loss: 1.5408 - accuracy: 0.50 - ETA: 4:21 - loss: 1.5370 - accuracy: 0.50 - ETA: 4:19 - loss: 1.5328 - accuracy: 0.50 - ETA: 4:17 - loss: 1.5290 - accuracy: 0.50 - ETA: 4:15 - loss: 1.5247 - accuracy: 0.50 - ETA: 4:12 - loss: 1.5209 - accuracy: 0.50 - ETA: 4:09 - loss: 1.5170 - accuracy: 0.50 - ETA: 4:06 - loss: 1.5126 - accuracy: 0.50 - ETA: 4:03 - loss: 1.5079 - accuracy: 0.50 - ETA: 4:00 - loss: 1.5040 - accuracy: 0.50 - ETA: 3:57 - loss: 1.5005 - accuracy: 0.50 - ETA: 3:54 - loss: 1.4978 - accuracy: 0.50 - ETA: 3:51 - loss: 1.4953 - accuracy: 0.50 - ETA: 3:48 - loss: 1.4920 - accuracy: 0.50 - ETA: 3:45 - loss: 1.4886 - accuracy: 0.50 - ETA: 3:41 - loss: 1.4859 - accuracy: 0.50 - ETA: 3:39 - loss: 1.4832 - accuracy: 0.50 - ETA: 3:35 - loss: 1.4795 - accuracy: 0.50 - ETA: 3:32 - loss: 1.4767 - accuracy: 0.50 - ETA: 3:30 - loss: 1.4734 - accuracy: 0.50 - ETA: 3:27 - loss: 1.4706 - accuracy: 0.50 - ETA: 3:23 - loss: 1.4684 - accuracy: 0.50 - ETA: 3:20 - loss: 1.4655 - accuracy: 0.50 - ETA: 3:17 - loss: 1.4627 - accuracy: 0.50 - ETA: 3:14 - loss: 1.4602 - accuracy: 0.50 - ETA: 3:12 - loss: 1.4580 - accuracy: 0.50 - ETA: 3:09 - loss: 1.4552 - accuracy: 0.50 - ETA: 3:06 - loss: 1.4529 - accuracy: 0.50 - ETA: 3:03 - loss: 1.4505 - accuracy: 0.50 - ETA: 3:00 - loss: 1.4484 - accuracy: 0.50 - ETA: 2:58 - loss: 1.4463 - accuracy: 0.50 - ETA: 2:54 - loss: 1.4441 - accuracy: 0.50 - ETA: 2:51 - loss: 1.4420 - accuracy: 0.50 - ETA: 2:48 - loss: 1.4399 - accuracy: 0.50 - ETA: 2:45 - loss: 1.4381 - accuracy: 0.50 - ETA: 2:42 - loss: 1.4362 - accuracy: 0.50 - ETA: 2:38 - loss: 1.4343 - accuracy: 0.50 - ETA: 2:35 - loss: 1.4328 - accuracy: 0.50 - ETA: 2:32 - loss: 1.4319 - accuracy: 0.50 - ETA: 2:28 - loss: 1.4301 - accuracy: 0.50 - ETA: 2:25 - loss: 1.4288 - accuracy: 0.50 - ETA: 2:21 - loss: 1.4272 - accuracy: 0.50 - ETA: 2:18 - loss: 1.4259 - accuracy: 0.50 - ETA: 2:14 - loss: 1.4243 - accuracy: 0.50 - ETA: 2:11 - loss: 1.4229 - accuracy: 0.50 - ETA: 2:08 - loss: 1.4217 - accuracy: 0.50 - ETA: 2:04 - loss: 1.4204 - accuracy: 0.50 - ETA: 2:01 - loss: 1.4189 - accuracy: 0.50 - ETA: 1:57 - loss: 1.4176 - accuracy: 0.50 - ETA: 1:53 - loss: 1.4162 - accuracy: 0.50 - ETA: 1:50 - loss: 1.4150 - accuracy: 0.50 - ETA: 1:46 - loss: 1.4135 - accuracy: 0.50 - ETA: 1:43 - loss: 1.4123 - accuracy: 0.50 - ETA: 1:39 - loss: 1.4111 - accuracy: 0.50 - ETA: 1:35 - loss: 1.4101 - accuracy: 0.50 - ETA: 1:32 - loss: 1.4090 - accuracy: 0.50 - ETA: 1:28 - loss: 1.4078 - accuracy: 0.50 - ETA: 1:24 - loss: 1.4064 - accuracy: 0.50 - ETA: 1:21 - loss: 1.4049 - accuracy: 0.50 - ETA: 1:17 - loss: 1.4039 - accuracy: 0.50 - ETA: 1:14 - loss: 1.4026 - accuracy: 0.51 - ETA: 1:10 - loss: 1.4013 - accuracy: 0.51 - ETA: 1:06 - loss: 1.4007 - accuracy: 0.50 - ETA: 1:02 - loss: 1.3996 - accuracy: 0.50 - ETA: 59s - loss: 1.3987 - accuracy: 0.5098 - ETA: 55s - loss: 1.3975 - accuracy: 0.510 - ETA: 51s - loss: 1.3967 - accuracy: 0.509 - ETA: 48s - loss: 1.3958 - accuracy: 0.509 - ETA: 44s - loss: 1.3950 - accuracy: 0.509 - ETA: 40s - loss: 1.3939 - accuracy: 0.509 - ETA: 37s - loss: 1.3933 - accuracy: 0.509 - ETA: 33s - loss: 1.3924 - accuracy: 0.509 - ETA: 29s - loss: 1.3912 - accuracy: 0.509 - ETA: 25s - loss: 1.3901 - accuracy: 0.510 - ETA: 22s - loss: 1.3891 - accuracy: 0.510 - ETA: 18s - loss: 1.3885 - accuracy: 0.510 - ETA: 14s - loss: 1.3877 - accuracy: 0.510 - ETA: 10s - loss: 1.3866 - accuracy: 0.510 - ETA: 7s - loss: 1.3858 - accuracy: 0.510 - ETA: 3s - loss: 1.3847 - accuracy: 0.51 - 499s 4ms/step - loss: 1.3840 - accuracy: 0.5107 - val_loss: 1.3073 - val_accuracy: 0.4922\n",
      "Epoch 2/10\n"
     ]
    },
    {
     "name": "stdout",
     "output_type": "stream",
     "text": [
      "124848/124848 [==============================] - ETA: 8:18 - loss: 1.3215 - accuracy: 0.49 - ETA: 8:13 - loss: 1.2966 - accuracy: 0.50 - ETA: 8:56 - loss: 1.2927 - accuracy: 0.51 - ETA: 9:27 - loss: 1.2882 - accuracy: 0.51 - ETA: 9:42 - loss: 1.2899 - accuracy: 0.51 - ETA: 9:54 - loss: 1.2877 - accuracy: 0.51 - ETA: 9:50 - loss: 1.2831 - accuracy: 0.51 - ETA: 9:45 - loss: 1.2843 - accuracy: 0.51 - ETA: 9:50 - loss: 1.2835 - accuracy: 0.51 - ETA: 9:50 - loss: 1.2847 - accuracy: 0.51 - ETA: 9:40 - loss: 1.2857 - accuracy: 0.51 - ETA: 9:29 - loss: 1.2839 - accuracy: 0.51 - ETA: 9:26 - loss: 1.2825 - accuracy: 0.51 - ETA: 9:15 - loss: 1.2826 - accuracy: 0.51 - ETA: 9:03 - loss: 1.2835 - accuracy: 0.51 - ETA: 8:54 - loss: 1.2865 - accuracy: 0.51 - ETA: 8:44 - loss: 1.2865 - accuracy: 0.51 - ETA: 8:36 - loss: 1.2862 - accuracy: 0.51 - ETA: 8:27 - loss: 1.2855 - accuracy: 0.51 - ETA: 8:20 - loss: 1.2848 - accuracy: 0.51 - ETA: 8:13 - loss: 1.2838 - accuracy: 0.51 - ETA: 8:05 - loss: 1.2844 - accuracy: 0.51 - ETA: 7:56 - loss: 1.2833 - accuracy: 0.51 - ETA: 7:50 - loss: 1.2823 - accuracy: 0.51 - ETA: 7:43 - loss: 1.2811 - accuracy: 0.51 - ETA: 7:38 - loss: 1.2809 - accuracy: 0.51 - ETA: 7:33 - loss: 1.2812 - accuracy: 0.51 - ETA: 7:28 - loss: 1.2812 - accuracy: 0.51 - ETA: 7:24 - loss: 1.2803 - accuracy: 0.51 - ETA: 7:19 - loss: 1.2796 - accuracy: 0.51 - ETA: 7:14 - loss: 1.2811 - accuracy: 0.51 - ETA: 7:09 - loss: 1.2801 - accuracy: 0.51 - ETA: 7:04 - loss: 1.2800 - accuracy: 0.51 - ETA: 6:59 - loss: 1.2805 - accuracy: 0.51 - ETA: 6:54 - loss: 1.2803 - accuracy: 0.51 - ETA: 6:50 - loss: 1.2807 - accuracy: 0.51 - ETA: 6:46 - loss: 1.2816 - accuracy: 0.51 - ETA: 6:41 - loss: 1.2805 - accuracy: 0.51 - ETA: 6:36 - loss: 1.2803 - accuracy: 0.51 - ETA: 6:30 - loss: 1.2808 - accuracy: 0.51 - ETA: 6:24 - loss: 1.2807 - accuracy: 0.51 - ETA: 6:18 - loss: 1.2807 - accuracy: 0.51 - ETA: 6:13 - loss: 1.2816 - accuracy: 0.51 - ETA: 6:08 - loss: 1.2815 - accuracy: 0.51 - ETA: 6:05 - loss: 1.2806 - accuracy: 0.51 - ETA: 6:01 - loss: 1.2810 - accuracy: 0.51 - ETA: 5:57 - loss: 1.2808 - accuracy: 0.51 - ETA: 5:55 - loss: 1.2811 - accuracy: 0.51 - ETA: 5:51 - loss: 1.2805 - accuracy: 0.51 - ETA: 5:45 - loss: 1.2800 - accuracy: 0.51 - ETA: 5:40 - loss: 1.2803 - accuracy: 0.51 - ETA: 5:35 - loss: 1.2803 - accuracy: 0.51 - ETA: 5:31 - loss: 1.2807 - accuracy: 0.51 - ETA: 5:26 - loss: 1.2809 - accuracy: 0.51 - ETA: 5:21 - loss: 1.2813 - accuracy: 0.51 - ETA: 5:17 - loss: 1.2813 - accuracy: 0.51 - ETA: 5:12 - loss: 1.2813 - accuracy: 0.51 - ETA: 5:07 - loss: 1.2814 - accuracy: 0.51 - ETA: 5:03 - loss: 1.2812 - accuracy: 0.51 - ETA: 4:58 - loss: 1.2813 - accuracy: 0.51 - ETA: 4:53 - loss: 1.2813 - accuracy: 0.51 - ETA: 4:48 - loss: 1.2817 - accuracy: 0.51 - ETA: 4:43 - loss: 1.2816 - accuracy: 0.51 - ETA: 4:38 - loss: 1.2811 - accuracy: 0.51 - ETA: 4:34 - loss: 1.2812 - accuracy: 0.51 - ETA: 4:29 - loss: 1.2815 - accuracy: 0.51 - ETA: 4:25 - loss: 1.2822 - accuracy: 0.51 - ETA: 4:21 - loss: 1.2821 - accuracy: 0.51 - ETA: 4:16 - loss: 1.2819 - accuracy: 0.51 - ETA: 4:12 - loss: 1.2816 - accuracy: 0.51 - ETA: 4:07 - loss: 1.2819 - accuracy: 0.51 - ETA: 4:03 - loss: 1.2819 - accuracy: 0.51 - ETA: 3:58 - loss: 1.2821 - accuracy: 0.51 - ETA: 3:54 - loss: 1.2822 - accuracy: 0.51 - ETA: 3:49 - loss: 1.2820 - accuracy: 0.51 - ETA: 3:45 - loss: 1.2820 - accuracy: 0.51 - ETA: 3:41 - loss: 1.2821 - accuracy: 0.51 - ETA: 3:36 - loss: 1.2820 - accuracy: 0.51 - ETA: 3:32 - loss: 1.2817 - accuracy: 0.51 - ETA: 3:27 - loss: 1.2814 - accuracy: 0.51 - ETA: 3:22 - loss: 1.2810 - accuracy: 0.51 - ETA: 3:18 - loss: 1.2813 - accuracy: 0.51 - ETA: 3:13 - loss: 1.2814 - accuracy: 0.51 - ETA: 3:08 - loss: 1.2813 - accuracy: 0.51 - ETA: 3:03 - loss: 1.2811 - accuracy: 0.51 - ETA: 2:59 - loss: 1.2812 - accuracy: 0.51 - ETA: 2:54 - loss: 1.2818 - accuracy: 0.51 - ETA: 2:50 - loss: 1.2818 - accuracy: 0.51 - ETA: 2:45 - loss: 1.2815 - accuracy: 0.51 - ETA: 2:41 - loss: 1.2813 - accuracy: 0.51 - ETA: 2:36 - loss: 1.2810 - accuracy: 0.51 - ETA: 2:31 - loss: 1.2810 - accuracy: 0.51 - ETA: 2:27 - loss: 1.2810 - accuracy: 0.51 - ETA: 2:22 - loss: 1.2812 - accuracy: 0.51 - ETA: 2:18 - loss: 1.2810 - accuracy: 0.51 - ETA: 2:13 - loss: 1.2807 - accuracy: 0.51 - ETA: 2:09 - loss: 1.2807 - accuracy: 0.51 - ETA: 2:04 - loss: 1.2804 - accuracy: 0.51 - ETA: 1:59 - loss: 1.2806 - accuracy: 0.51 - ETA: 1:55 - loss: 1.2806 - accuracy: 0.51 - ETA: 1:50 - loss: 1.2804 - accuracy: 0.51 - ETA: 1:46 - loss: 1.2801 - accuracy: 0.51 - ETA: 1:41 - loss: 1.2801 - accuracy: 0.51 - ETA: 1:36 - loss: 1.2801 - accuracy: 0.51 - ETA: 1:32 - loss: 1.2803 - accuracy: 0.51 - ETA: 1:27 - loss: 1.2800 - accuracy: 0.51 - ETA: 1:22 - loss: 1.2799 - accuracy: 0.51 - ETA: 1:18 - loss: 1.2802 - accuracy: 0.51 - ETA: 1:14 - loss: 1.2802 - accuracy: 0.51 - ETA: 1:09 - loss: 1.2804 - accuracy: 0.51 - ETA: 1:04 - loss: 1.2806 - accuracy: 0.51 - ETA: 1:00 - loss: 1.2808 - accuracy: 0.51 - ETA: 55s - loss: 1.2808 - accuracy: 0.5151 - ETA: 50s - loss: 1.2807 - accuracy: 0.515 - ETA: 46s - loss: 1.2807 - accuracy: 0.515 - ETA: 41s - loss: 1.2811 - accuracy: 0.514 - ETA: 36s - loss: 1.2812 - accuracy: 0.514 - ETA: 32s - loss: 1.2810 - accuracy: 0.514 - ETA: 27s - loss: 1.2812 - accuracy: 0.514 - ETA: 22s - loss: 1.2811 - accuracy: 0.514 - ETA: 18s - loss: 1.2810 - accuracy: 0.514 - ETA: 13s - loss: 1.2814 - accuracy: 0.514 - ETA: 8s - loss: 1.2811 - accuracy: 0.514 - ETA: 3s - loss: 1.2812 - accuracy: 0.51 - 609s 5ms/step - loss: 1.2814 - accuracy: 0.5144 - val_loss: 1.3058 - val_accuracy: 0.4922\n",
      "Epoch 3/10\n"
     ]
    },
    {
     "name": "stdout",
     "output_type": "stream",
     "text": [
      "124848/124848 [==============================] - ETA: 10:03 - loss: 1.2907 - accuracy: 0.510 - ETA: 9:53 - loss: 1.2751 - accuracy: 0.520 - ETA: 9:57 - loss: 1.2771 - accuracy: 0.51 - ETA: 10:01 - loss: 1.2822 - accuracy: 0.510 - ETA: 9:53 - loss: 1.2764 - accuracy: 0.514 - ETA: 9:51 - loss: 1.2758 - accuracy: 0.51 - ETA: 9:49 - loss: 1.2786 - accuracy: 0.51 - ETA: 9:45 - loss: 1.2781 - accuracy: 0.51 - ETA: 9:44 - loss: 1.2798 - accuracy: 0.51 - ETA: 9:50 - loss: 1.2803 - accuracy: 0.51 - ETA: 9:38 - loss: 1.2810 - accuracy: 0.51 - ETA: 9:26 - loss: 1.2790 - accuracy: 0.51 - ETA: 9:15 - loss: 1.2796 - accuracy: 0.51 - ETA: 9:07 - loss: 1.2820 - accuracy: 0.51 - ETA: 9:04 - loss: 1.2822 - accuracy: 0.51 - ETA: 8:58 - loss: 1.2809 - accuracy: 0.51 - ETA: 8:49 - loss: 1.2827 - accuracy: 0.51 - ETA: 8:43 - loss: 1.2814 - accuracy: 0.51 - ETA: 8:37 - loss: 1.2808 - accuracy: 0.51 - ETA: 8:34 - loss: 1.2794 - accuracy: 0.51 - ETA: 8:31 - loss: 1.2777 - accuracy: 0.51 - ETA: 8:27 - loss: 1.2781 - accuracy: 0.51 - ETA: 8:24 - loss: 1.2792 - accuracy: 0.51 - ETA: 8:20 - loss: 1.2799 - accuracy: 0.51 - ETA: 8:15 - loss: 1.2806 - accuracy: 0.51 - ETA: 8:10 - loss: 1.2801 - accuracy: 0.51 - ETA: 8:05 - loss: 1.2784 - accuracy: 0.51 - ETA: 8:06 - loss: 1.2781 - accuracy: 0.51 - ETA: 8:04 - loss: 1.2798 - accuracy: 0.51 - ETA: 7:57 - loss: 1.2789 - accuracy: 0.51 - ETA: 7:50 - loss: 1.2783 - accuracy: 0.51 - ETA: 7:44 - loss: 1.2788 - accuracy: 0.51 - ETA: 7:39 - loss: 1.2777 - accuracy: 0.51 - ETA: 7:33 - loss: 1.2772 - accuracy: 0.51 - ETA: 7:28 - loss: 1.2775 - accuracy: 0.51 - ETA: 7:23 - loss: 1.2780 - accuracy: 0.51 - ETA: 7:18 - loss: 1.2784 - accuracy: 0.51 - ETA: 7:13 - loss: 1.2789 - accuracy: 0.51 - ETA: 7:09 - loss: 1.2790 - accuracy: 0.51 - ETA: 7:04 - loss: 1.2788 - accuracy: 0.51 - ETA: 6:59 - loss: 1.2788 - accuracy: 0.51 - ETA: 6:54 - loss: 1.2795 - accuracy: 0.51 - ETA: 6:50 - loss: 1.2797 - accuracy: 0.51 - ETA: 6:46 - loss: 1.2799 - accuracy: 0.51 - ETA: 6:41 - loss: 1.2809 - accuracy: 0.51 - ETA: 6:36 - loss: 1.2806 - accuracy: 0.51 - ETA: 6:31 - loss: 1.2802 - accuracy: 0.51 - ETA: 6:26 - loss: 1.2813 - accuracy: 0.51 - ETA: 6:21 - loss: 1.2808 - accuracy: 0.51 - ETA: 6:16 - loss: 1.2803 - accuracy: 0.51 - ETA: 6:11 - loss: 1.2795 - accuracy: 0.51 - ETA: 6:06 - loss: 1.2794 - accuracy: 0.51 - ETA: 6:01 - loss: 1.2802 - accuracy: 0.51 - ETA: 5:56 - loss: 1.2797 - accuracy: 0.51 - ETA: 5:50 - loss: 1.2799 - accuracy: 0.51 - ETA: 5:45 - loss: 1.2790 - accuracy: 0.51 - ETA: 5:40 - loss: 1.2784 - accuracy: 0.51 - ETA: 5:35 - loss: 1.2789 - accuracy: 0.51 - ETA: 5:31 - loss: 1.2788 - accuracy: 0.51 - ETA: 5:27 - loss: 1.2784 - accuracy: 0.51 - ETA: 5:22 - loss: 1.2786 - accuracy: 0.51 - ETA: 5:17 - loss: 1.2786 - accuracy: 0.51 - ETA: 5:12 - loss: 1.2788 - accuracy: 0.51 - ETA: 5:08 - loss: 1.2786 - accuracy: 0.51 - ETA: 5:03 - loss: 1.2792 - accuracy: 0.51 - ETA: 4:57 - loss: 1.2791 - accuracy: 0.51 - ETA: 4:52 - loss: 1.2792 - accuracy: 0.51 - ETA: 4:47 - loss: 1.2794 - accuracy: 0.51 - ETA: 4:43 - loss: 1.2793 - accuracy: 0.51 - ETA: 4:39 - loss: 1.2788 - accuracy: 0.51 - ETA: 4:34 - loss: 1.2781 - accuracy: 0.51 - ETA: 4:28 - loss: 1.2783 - accuracy: 0.51 - ETA: 4:23 - loss: 1.2785 - accuracy: 0.51 - ETA: 4:19 - loss: 1.2781 - accuracy: 0.51 - ETA: 4:14 - loss: 1.2784 - accuracy: 0.51 - ETA: 4:09 - loss: 1.2785 - accuracy: 0.51 - ETA: 4:04 - loss: 1.2785 - accuracy: 0.51 - ETA: 3:59 - loss: 1.2789 - accuracy: 0.51 - ETA: 3:54 - loss: 1.2789 - accuracy: 0.51 - ETA: 3:48 - loss: 1.2786 - accuracy: 0.51 - ETA: 3:43 - loss: 1.2782 - accuracy: 0.51 - ETA: 3:38 - loss: 1.2783 - accuracy: 0.51 - ETA: 3:33 - loss: 1.2784 - accuracy: 0.51 - ETA: 3:27 - loss: 1.2787 - accuracy: 0.51 - ETA: 3:22 - loss: 1.2781 - accuracy: 0.51 - ETA: 3:17 - loss: 1.2779 - accuracy: 0.51 - ETA: 3:12 - loss: 1.2787 - accuracy: 0.51 - ETA: 3:07 - loss: 1.2789 - accuracy: 0.51 - ETA: 3:01 - loss: 1.2791 - accuracy: 0.51 - ETA: 2:57 - loss: 1.2790 - accuracy: 0.51 - ETA: 2:51 - loss: 1.2787 - accuracy: 0.51 - ETA: 2:46 - loss: 1.2782 - accuracy: 0.51 - ETA: 2:41 - loss: 1.2783 - accuracy: 0.51 - ETA: 2:36 - loss: 1.2781 - accuracy: 0.51 - ETA: 2:31 - loss: 1.2782 - accuracy: 0.51 - ETA: 2:26 - loss: 1.2785 - accuracy: 0.51 - ETA: 2:21 - loss: 1.2787 - accuracy: 0.51 - ETA: 2:16 - loss: 1.2786 - accuracy: 0.51 - ETA: 2:11 - loss: 1.2785 - accuracy: 0.51 - ETA: 2:07 - loss: 1.2787 - accuracy: 0.51 - ETA: 2:01 - loss: 1.2787 - accuracy: 0.51 - ETA: 1:56 - loss: 1.2785 - accuracy: 0.51 - ETA: 1:51 - loss: 1.2786 - accuracy: 0.51 - ETA: 1:46 - loss: 1.2787 - accuracy: 0.51 - ETA: 1:41 - loss: 1.2789 - accuracy: 0.51 - ETA: 1:36 - loss: 1.2794 - accuracy: 0.51 - ETA: 1:31 - loss: 1.2791 - accuracy: 0.51 - ETA: 1:26 - loss: 1.2787 - accuracy: 0.51 - ETA: 1:21 - loss: 1.2789 - accuracy: 0.51 - ETA: 1:15 - loss: 1.2789 - accuracy: 0.51 - ETA: 1:10 - loss: 1.2794 - accuracy: 0.51 - ETA: 1:05 - loss: 1.2796 - accuracy: 0.51 - ETA: 1:00 - loss: 1.2798 - accuracy: 0.51 - ETA: 55s - loss: 1.2797 - accuracy: 0.5145 - ETA: 50s - loss: 1.2796 - accuracy: 0.514 - ETA: 45s - loss: 1.2797 - accuracy: 0.514 - ETA: 40s - loss: 1.2796 - accuracy: 0.514 - ETA: 35s - loss: 1.2796 - accuracy: 0.514 - ETA: 30s - loss: 1.2797 - accuracy: 0.514 - ETA: 25s - loss: 1.2796 - accuracy: 0.514 - ETA: 19s - loss: 1.2795 - accuracy: 0.514 - ETA: 14s - loss: 1.2795 - accuracy: 0.514 - ETA: 9s - loss: 1.2796 - accuracy: 0.514 - ETA: 4s - loss: 1.2794 - accuracy: 0.51 - 675s 5ms/step - loss: 1.2797 - accuracy: 0.5144 - val_loss: 1.3059 - val_accuracy: 0.4922\n",
      "Epoch 4/10\n"
     ]
    },
    {
     "name": "stdout",
     "output_type": "stream",
     "text": [
      "124848/124848 [==============================] - ETA: 11:38 - loss: 1.2660 - accuracy: 0.528 - ETA: 11:26 - loss: 1.2943 - accuracy: 0.508 - ETA: 11:13 - loss: 1.3071 - accuracy: 0.500 - ETA: 11:05 - loss: 1.3009 - accuracy: 0.504 - ETA: 10:55 - loss: 1.2965 - accuracy: 0.505 - ETA: 10:51 - loss: 1.2900 - accuracy: 0.511 - ETA: 10:45 - loss: 1.2852 - accuracy: 0.515 - ETA: 10:56 - loss: 1.2857 - accuracy: 0.515 - ETA: 10:59 - loss: 1.2790 - accuracy: 0.518 - ETA: 11:03 - loss: 1.2827 - accuracy: 0.515 - ETA: 11:03 - loss: 1.2833 - accuracy: 0.514 - ETA: 10:57 - loss: 1.2825 - accuracy: 0.514 - ETA: 10:53 - loss: 1.2811 - accuracy: 0.514 - ETA: 10:49 - loss: 1.2808 - accuracy: 0.514 - ETA: 10:52 - loss: 1.2826 - accuracy: 0.513 - ETA: 10:47 - loss: 1.2826 - accuracy: 0.512 - ETA: 10:40 - loss: 1.2833 - accuracy: 0.512 - ETA: 10:30 - loss: 1.2826 - accuracy: 0.512 - ETA: 10:23 - loss: 1.2824 - accuracy: 0.512 - ETA: 10:21 - loss: 1.2840 - accuracy: 0.511 - ETA: 10:21 - loss: 1.2845 - accuracy: 0.511 - ETA: 10:19 - loss: 1.2836 - accuracy: 0.511 - ETA: 10:14 - loss: 1.2833 - accuracy: 0.511 - ETA: 10:08 - loss: 1.2846 - accuracy: 0.510 - ETA: 10:01 - loss: 1.2847 - accuracy: 0.510 - ETA: 9:54 - loss: 1.2851 - accuracy: 0.510 - ETA: 9:45 - loss: 1.2832 - accuracy: 0.51 - ETA: 9:37 - loss: 1.2834 - accuracy: 0.51 - ETA: 9:30 - loss: 1.2840 - accuracy: 0.51 - ETA: 9:23 - loss: 1.2837 - accuracy: 0.51 - ETA: 9:18 - loss: 1.2833 - accuracy: 0.51 - ETA: 9:12 - loss: 1.2843 - accuracy: 0.51 - ETA: 9:06 - loss: 1.2837 - accuracy: 0.51 - ETA: 9:02 - loss: 1.2835 - accuracy: 0.51 - ETA: 8:56 - loss: 1.2829 - accuracy: 0.51 - ETA: 8:50 - loss: 1.2825 - accuracy: 0.51 - ETA: 8:42 - loss: 1.2830 - accuracy: 0.51 - ETA: 8:36 - loss: 1.2832 - accuracy: 0.51 - ETA: 8:30 - loss: 1.2833 - accuracy: 0.51 - ETA: 8:23 - loss: 1.2842 - accuracy: 0.51 - ETA: 8:16 - loss: 1.2832 - accuracy: 0.51 - ETA: 8:10 - loss: 1.2831 - accuracy: 0.51 - ETA: 8:03 - loss: 1.2832 - accuracy: 0.51 - ETA: 7:57 - loss: 1.2827 - accuracy: 0.51 - ETA: 7:52 - loss: 1.2819 - accuracy: 0.51 - ETA: 7:45 - loss: 1.2822 - accuracy: 0.51 - ETA: 7:39 - loss: 1.2828 - accuracy: 0.51 - ETA: 7:33 - loss: 1.2822 - accuracy: 0.51 - ETA: 7:27 - loss: 1.2821 - accuracy: 0.51 - ETA: 7:22 - loss: 1.2817 - accuracy: 0.51 - ETA: 7:17 - loss: 1.2817 - accuracy: 0.51 - ETA: 7:11 - loss: 1.2815 - accuracy: 0.51 - ETA: 7:05 - loss: 1.2812 - accuracy: 0.51 - ETA: 7:00 - loss: 1.2808 - accuracy: 0.51 - ETA: 6:54 - loss: 1.2813 - accuracy: 0.51 - ETA: 6:48 - loss: 1.2811 - accuracy: 0.51 - ETA: 6:42 - loss: 1.2816 - accuracy: 0.51 - ETA: 6:36 - loss: 1.2820 - accuracy: 0.51 - ETA: 6:29 - loss: 1.2811 - accuracy: 0.51 - ETA: 6:23 - loss: 1.2810 - accuracy: 0.51 - ETA: 6:17 - loss: 1.2816 - accuracy: 0.51 - ETA: 6:11 - loss: 1.2822 - accuracy: 0.51 - ETA: 6:05 - loss: 1.2818 - accuracy: 0.51 - ETA: 5:58 - loss: 1.2810 - accuracy: 0.51 - ETA: 5:52 - loss: 1.2809 - accuracy: 0.51 - ETA: 5:46 - loss: 1.2807 - accuracy: 0.51 - ETA: 5:40 - loss: 1.2811 - accuracy: 0.51 - ETA: 5:34 - loss: 1.2810 - accuracy: 0.51 - ETA: 5:28 - loss: 1.2809 - accuracy: 0.51 - ETA: 5:21 - loss: 1.2815 - accuracy: 0.51 - ETA: 5:15 - loss: 1.2815 - accuracy: 0.51 - ETA: 5:09 - loss: 1.2817 - accuracy: 0.51 - ETA: 5:03 - loss: 1.2820 - accuracy: 0.51 - ETA: 4:57 - loss: 1.2822 - accuracy: 0.51 - ETA: 4:50 - loss: 1.2825 - accuracy: 0.51 - ETA: 4:44 - loss: 1.2824 - accuracy: 0.51 - ETA: 4:38 - loss: 1.2829 - accuracy: 0.51 - ETA: 4:32 - loss: 1.2825 - accuracy: 0.51 - ETA: 4:26 - loss: 1.2821 - accuracy: 0.51 - ETA: 4:20 - loss: 1.2822 - accuracy: 0.51 - ETA: 4:14 - loss: 1.2827 - accuracy: 0.51 - ETA: 4:09 - loss: 1.2821 - accuracy: 0.51 - ETA: 4:03 - loss: 1.2824 - accuracy: 0.51 - ETA: 3:56 - loss: 1.2821 - accuracy: 0.51 - ETA: 3:50 - loss: 1.2812 - accuracy: 0.51 - ETA: 3:45 - loss: 1.2817 - accuracy: 0.51 - ETA: 3:39 - loss: 1.2819 - accuracy: 0.51 - ETA: 3:33 - loss: 1.2819 - accuracy: 0.51 - ETA: 3:27 - loss: 1.2816 - accuracy: 0.51 - ETA: 3:21 - loss: 1.2815 - accuracy: 0.51 - ETA: 3:15 - loss: 1.2813 - accuracy: 0.51 - ETA: 3:09 - loss: 1.2812 - accuracy: 0.51 - ETA: 3:03 - loss: 1.2811 - accuracy: 0.51 - ETA: 2:58 - loss: 1.2812 - accuracy: 0.51 - ETA: 2:52 - loss: 1.2812 - accuracy: 0.51 - ETA: 2:46 - loss: 1.2815 - accuracy: 0.51 - ETA: 2:40 - loss: 1.2814 - accuracy: 0.51 - ETA: 2:34 - loss: 1.2816 - accuracy: 0.51 - ETA: 2:29 - loss: 1.2814 - accuracy: 0.51 - ETA: 2:23 - loss: 1.2812 - accuracy: 0.51 - ETA: 2:17 - loss: 1.2812 - accuracy: 0.51 - ETA: 2:11 - loss: 1.2810 - accuracy: 0.51 - ETA: 2:06 - loss: 1.2809 - accuracy: 0.51 - ETA: 2:00 - loss: 1.2806 - accuracy: 0.51 - ETA: 1:54 - loss: 1.2805 - accuracy: 0.51 - ETA: 1:48 - loss: 1.2803 - accuracy: 0.51 - ETA: 1:42 - loss: 1.2801 - accuracy: 0.51 - ETA: 1:37 - loss: 1.2801 - accuracy: 0.51 - ETA: 1:31 - loss: 1.2801 - accuracy: 0.51 - ETA: 1:25 - loss: 1.2802 - accuracy: 0.51 - ETA: 1:19 - loss: 1.2800 - accuracy: 0.51 - ETA: 1:13 - loss: 1.2801 - accuracy: 0.51 - ETA: 1:08 - loss: 1.2800 - accuracy: 0.51 - ETA: 1:02 - loss: 1.2797 - accuracy: 0.51 - ETA: 56s - loss: 1.2799 - accuracy: 0.5135 - ETA: 50s - loss: 1.2798 - accuracy: 0.513 - ETA: 45s - loss: 1.2796 - accuracy: 0.513 - ETA: 39s - loss: 1.2796 - accuracy: 0.513 - ETA: 33s - loss: 1.2800 - accuracy: 0.513 - ETA: 27s - loss: 1.2801 - accuracy: 0.513 - ETA: 22s - loss: 1.2799 - accuracy: 0.513 - ETA: 16s - loss: 1.2798 - accuracy: 0.513 - ETA: 10s - loss: 1.2796 - accuracy: 0.514 - ETA: 4s - loss: 1.2791 - accuracy: 0.514 - 741s 6ms/step - loss: 1.2789 - accuracy: 0.5144 - val_loss: 1.3082 - val_accuracy: 0.4922\n",
      "Epoch 5/10\n"
     ]
    },
    {
     "name": "stdout",
     "output_type": "stream",
     "text": [
      "124848/124848 [==============================] - ETA: 12:27 - loss: 1.2724 - accuracy: 0.518 - ETA: 12:23 - loss: 1.2857 - accuracy: 0.512 - ETA: 12:03 - loss: 1.2882 - accuracy: 0.512 - ETA: 11:55 - loss: 1.2898 - accuracy: 0.511 - ETA: 11:40 - loss: 1.2809 - accuracy: 0.515 - ETA: 11:31 - loss: 1.2848 - accuracy: 0.513 - ETA: 11:16 - loss: 1.2833 - accuracy: 0.512 - ETA: 11:21 - loss: 1.2829 - accuracy: 0.511 - ETA: 11:18 - loss: 1.2834 - accuracy: 0.510 - ETA: 11:07 - loss: 1.2875 - accuracy: 0.508 - ETA: 10:59 - loss: 1.2870 - accuracy: 0.509 - ETA: 10:47 - loss: 1.2906 - accuracy: 0.508 - ETA: 10:38 - loss: 1.2910 - accuracy: 0.507 - ETA: 10:33 - loss: 1.2887 - accuracy: 0.508 - ETA: 10:26 - loss: 1.2885 - accuracy: 0.508 - ETA: 10:19 - loss: 1.2878 - accuracy: 0.508 - ETA: 10:13 - loss: 1.2881 - accuracy: 0.508 - ETA: 10:07 - loss: 1.2872 - accuracy: 0.508 - ETA: 10:03 - loss: 1.2882 - accuracy: 0.507 - ETA: 9:57 - loss: 1.2878 - accuracy: 0.507 - ETA: 9:52 - loss: 1.2860 - accuracy: 0.50 - ETA: 9:46 - loss: 1.2869 - accuracy: 0.50 - ETA: 9:39 - loss: 1.2855 - accuracy: 0.50 - ETA: 9:33 - loss: 1.2871 - accuracy: 0.50 - ETA: 9:27 - loss: 1.2869 - accuracy: 0.50 - ETA: 9:22 - loss: 1.2854 - accuracy: 0.50 - ETA: 9:18 - loss: 1.2842 - accuracy: 0.50 - ETA: 9:12 - loss: 1.2821 - accuracy: 0.51 - ETA: 9:06 - loss: 1.2829 - accuracy: 0.51 - ETA: 9:00 - loss: 1.2835 - accuracy: 0.51 - ETA: 8:55 - loss: 1.2828 - accuracy: 0.51 - ETA: 8:49 - loss: 1.2821 - accuracy: 0.51 - ETA: 8:43 - loss: 1.2811 - accuracy: 0.51 - ETA: 8:37 - loss: 1.2829 - accuracy: 0.51 - ETA: 8:32 - loss: 1.2831 - accuracy: 0.51 - ETA: 8:27 - loss: 1.2837 - accuracy: 0.51 - ETA: 8:21 - loss: 1.2833 - accuracy: 0.51 - ETA: 8:14 - loss: 1.2819 - accuracy: 0.51 - ETA: 8:07 - loss: 1.2818 - accuracy: 0.51 - ETA: 8:00 - loss: 1.2829 - accuracy: 0.51 - ETA: 7:55 - loss: 1.2823 - accuracy: 0.51 - ETA: 7:49 - loss: 1.2825 - accuracy: 0.51 - ETA: 7:43 - loss: 1.2822 - accuracy: 0.51 - ETA: 7:37 - loss: 1.2815 - accuracy: 0.51 - ETA: 7:30 - loss: 1.2816 - accuracy: 0.51 - ETA: 7:25 - loss: 1.2819 - accuracy: 0.51 - ETA: 7:18 - loss: 1.2823 - accuracy: 0.51 - ETA: 7:11 - loss: 1.2832 - accuracy: 0.51 - ETA: 7:05 - loss: 1.2824 - accuracy: 0.51 - ETA: 6:59 - loss: 1.2821 - accuracy: 0.51 - ETA: 6:54 - loss: 1.2822 - accuracy: 0.51 - ETA: 6:48 - loss: 1.2823 - accuracy: 0.51 - ETA: 6:43 - loss: 1.2817 - accuracy: 0.51 - ETA: 6:37 - loss: 1.2824 - accuracy: 0.51 - ETA: 6:32 - loss: 1.2823 - accuracy: 0.51 - ETA: 6:27 - loss: 1.2829 - accuracy: 0.51 - ETA: 6:21 - loss: 1.2829 - accuracy: 0.51 - ETA: 6:17 - loss: 1.2832 - accuracy: 0.51 - ETA: 6:13 - loss: 1.2824 - accuracy: 0.51 - ETA: 6:08 - loss: 1.2826 - accuracy: 0.51 - ETA: 6:03 - loss: 1.2824 - accuracy: 0.51 - ETA: 5:58 - loss: 1.2821 - accuracy: 0.51 - ETA: 5:52 - loss: 1.2821 - accuracy: 0.51 - ETA: 5:45 - loss: 1.2823 - accuracy: 0.51 - ETA: 5:39 - loss: 1.2823 - accuracy: 0.51 - ETA: 5:34 - loss: 1.2821 - accuracy: 0.51 - ETA: 5:28 - loss: 1.2821 - accuracy: 0.51 - ETA: 5:23 - loss: 1.2818 - accuracy: 0.51 - ETA: 5:18 - loss: 1.2815 - accuracy: 0.51 - ETA: 5:12 - loss: 1.2816 - accuracy: 0.51 - ETA: 5:06 - loss: 1.2813 - accuracy: 0.51 - ETA: 5:00 - loss: 1.2812 - accuracy: 0.51 - ETA: 4:54 - loss: 1.2813 - accuracy: 0.51 - ETA: 4:48 - loss: 1.2813 - accuracy: 0.51 - ETA: 4:43 - loss: 1.2811 - accuracy: 0.51 - ETA: 4:37 - loss: 1.2812 - accuracy: 0.51 - ETA: 4:31 - loss: 1.2811 - accuracy: 0.51 - ETA: 4:25 - loss: 1.2811 - accuracy: 0.51 - ETA: 4:19 - loss: 1.2815 - accuracy: 0.51 - ETA: 4:14 - loss: 1.2816 - accuracy: 0.51 - ETA: 4:08 - loss: 1.2813 - accuracy: 0.51 - ETA: 4:03 - loss: 1.2815 - accuracy: 0.51 - ETA: 3:57 - loss: 1.2812 - accuracy: 0.51 - ETA: 3:51 - loss: 1.2812 - accuracy: 0.51 - ETA: 3:45 - loss: 1.2811 - accuracy: 0.51 - ETA: 3:39 - loss: 1.2811 - accuracy: 0.51 - ETA: 3:34 - loss: 1.2814 - accuracy: 0.51 - ETA: 3:28 - loss: 1.2814 - accuracy: 0.51 - ETA: 3:22 - loss: 1.2814 - accuracy: 0.51 - ETA: 3:17 - loss: 1.2813 - accuracy: 0.51 - ETA: 3:11 - loss: 1.2810 - accuracy: 0.51 - ETA: 3:05 - loss: 1.2810 - accuracy: 0.51 - ETA: 3:00 - loss: 1.2809 - accuracy: 0.51 - ETA: 2:55 - loss: 1.2805 - accuracy: 0.51 - ETA: 2:49 - loss: 1.2799 - accuracy: 0.51 - ETA: 2:43 - loss: 1.2798 - accuracy: 0.51 - ETA: 2:38 - loss: 1.2801 - accuracy: 0.51 - ETA: 2:32 - loss: 1.2802 - accuracy: 0.51 - ETA: 2:26 - loss: 1.2799 - accuracy: 0.51 - ETA: 2:21 - loss: 1.2799 - accuracy: 0.51 - ETA: 2:15 - loss: 1.2796 - accuracy: 0.51 - ETA: 2:10 - loss: 1.2795 - accuracy: 0.51 - ETA: 2:04 - loss: 1.2798 - accuracy: 0.51 - ETA: 1:59 - loss: 1.2797 - accuracy: 0.51 - ETA: 1:53 - loss: 1.2800 - accuracy: 0.51 - ETA: 1:47 - loss: 1.2801 - accuracy: 0.51 - ETA: 1:42 - loss: 1.2802 - accuracy: 0.51 - ETA: 1:36 - loss: 1.2801 - accuracy: 0.51 - ETA: 1:30 - loss: 1.2802 - accuracy: 0.51 - ETA: 1:25 - loss: 1.2801 - accuracy: 0.51 - ETA: 1:19 - loss: 1.2800 - accuracy: 0.51 - ETA: 1:13 - loss: 1.2803 - accuracy: 0.51 - ETA: 1:07 - loss: 1.2800 - accuracy: 0.51 - ETA: 1:02 - loss: 1.2804 - accuracy: 0.51 - ETA: 56s - loss: 1.2804 - accuracy: 0.5134 - ETA: 50s - loss: 1.2804 - accuracy: 0.513 - ETA: 44s - loss: 1.2801 - accuracy: 0.513 - ETA: 39s - loss: 1.2801 - accuracy: 0.513 - ETA: 33s - loss: 1.2802 - accuracy: 0.513 - ETA: 27s - loss: 1.2798 - accuracy: 0.513 - ETA: 21s - loss: 1.2796 - accuracy: 0.513 - ETA: 16s - loss: 1.2798 - accuracy: 0.513 - ETA: 10s - loss: 1.2798 - accuracy: 0.513 - ETA: 4s - loss: 1.2794 - accuracy: 0.514 - 740s 6ms/step - loss: 1.2791 - accuracy: 0.5144 - val_loss: 1.3064 - val_accuracy: 0.4922\n",
      "Epoch 6/10\n"
     ]
    },
    {
     "name": "stdout",
     "output_type": "stream",
     "text": [
      "124848/124848 [==============================] - ETA: 11:45 - loss: 1.2887 - accuracy: 0.500 - ETA: 11:50 - loss: 1.2825 - accuracy: 0.506 - ETA: 11:51 - loss: 1.2745 - accuracy: 0.512 - ETA: 11:23 - loss: 1.2766 - accuracy: 0.511 - ETA: 11:23 - loss: 1.2826 - accuracy: 0.510 - ETA: 11:11 - loss: 1.2855 - accuracy: 0.510 - ETA: 11:01 - loss: 1.2828 - accuracy: 0.514 - ETA: 10:48 - loss: 1.2746 - accuracy: 0.519 - ETA: 10:45 - loss: 1.2799 - accuracy: 0.517 - ETA: 10:48 - loss: 1.2845 - accuracy: 0.514 - ETA: 10:48 - loss: 1.2860 - accuracy: 0.512 - ETA: 10:45 - loss: 1.2839 - accuracy: 0.514 - ETA: 10:44 - loss: 1.2857 - accuracy: 0.514 - ETA: 10:43 - loss: 1.2847 - accuracy: 0.514 - ETA: 10:37 - loss: 1.2844 - accuracy: 0.513 - ETA: 10:31 - loss: 1.2861 - accuracy: 0.512 - ETA: 10:26 - loss: 1.2846 - accuracy: 0.513 - ETA: 10:26 - loss: 1.2863 - accuracy: 0.512 - ETA: 10:23 - loss: 1.2857 - accuracy: 0.512 - ETA: 10:14 - loss: 1.2856 - accuracy: 0.512 - ETA: 10:06 - loss: 1.2842 - accuracy: 0.513 - ETA: 9:57 - loss: 1.2837 - accuracy: 0.513 - ETA: 9:51 - loss: 1.2821 - accuracy: 0.51 - ETA: 9:46 - loss: 1.2807 - accuracy: 0.51 - ETA: 9:40 - loss: 1.2801 - accuracy: 0.51 - ETA: 9:34 - loss: 1.2805 - accuracy: 0.51 - ETA: 9:28 - loss: 1.2803 - accuracy: 0.51 - ETA: 9:21 - loss: 1.2795 - accuracy: 0.51 - ETA: 9:14 - loss: 1.2786 - accuracy: 0.51 - ETA: 9:08 - loss: 1.2787 - accuracy: 0.51 - ETA: 9:03 - loss: 1.2782 - accuracy: 0.51 - ETA: 8:57 - loss: 1.2776 - accuracy: 0.51 - ETA: 8:52 - loss: 1.2775 - accuracy: 0.51 - ETA: 8:47 - loss: 1.2779 - accuracy: 0.51 - ETA: 8:41 - loss: 1.2774 - accuracy: 0.51 - ETA: 8:35 - loss: 1.2771 - accuracy: 0.51 - ETA: 8:30 - loss: 1.2778 - accuracy: 0.51 - ETA: 8:25 - loss: 1.2772 - accuracy: 0.51 - ETA: 8:20 - loss: 1.2760 - accuracy: 0.51 - ETA: 8:15 - loss: 1.2759 - accuracy: 0.51 - ETA: 8:08 - loss: 1.2766 - accuracy: 0.51 - ETA: 8:03 - loss: 1.2761 - accuracy: 0.51 - ETA: 7:57 - loss: 1.2763 - accuracy: 0.51 - ETA: 7:50 - loss: 1.2773 - accuracy: 0.51 - ETA: 7:43 - loss: 1.2781 - accuracy: 0.51 - ETA: 7:36 - loss: 1.2785 - accuracy: 0.51 - ETA: 7:29 - loss: 1.2779 - accuracy: 0.51 - ETA: 7:23 - loss: 1.2784 - accuracy: 0.51 - ETA: 7:17 - loss: 1.2785 - accuracy: 0.51 - ETA: 7:12 - loss: 1.2788 - accuracy: 0.51 - ETA: 7:07 - loss: 1.2794 - accuracy: 0.51 - ETA: 7:01 - loss: 1.2799 - accuracy: 0.51 - ETA: 6:56 - loss: 1.2797 - accuracy: 0.51 - ETA: 6:50 - loss: 1.2798 - accuracy: 0.51 - ETA: 6:44 - loss: 1.2797 - accuracy: 0.51 - ETA: 6:38 - loss: 1.2800 - accuracy: 0.51 - ETA: 6:33 - loss: 1.2801 - accuracy: 0.51 - ETA: 6:27 - loss: 1.2799 - accuracy: 0.51 - ETA: 6:21 - loss: 1.2795 - accuracy: 0.51 - ETA: 6:15 - loss: 1.2797 - accuracy: 0.51 - ETA: 6:09 - loss: 1.2794 - accuracy: 0.51 - ETA: 6:03 - loss: 1.2791 - accuracy: 0.51 - ETA: 5:57 - loss: 1.2796 - accuracy: 0.51 - ETA: 5:51 - loss: 1.2792 - accuracy: 0.51 - ETA: 5:46 - loss: 1.2788 - accuracy: 0.51 - ETA: 5:40 - loss: 1.2787 - accuracy: 0.51 - ETA: 5:34 - loss: 1.2788 - accuracy: 0.51 - ETA: 5:28 - loss: 1.2791 - accuracy: 0.51 - ETA: 5:23 - loss: 1.2790 - accuracy: 0.51 - ETA: 5:17 - loss: 1.2793 - accuracy: 0.51 - ETA: 5:11 - loss: 1.2790 - accuracy: 0.51 - ETA: 5:05 - loss: 1.2783 - accuracy: 0.51 - ETA: 4:59 - loss: 1.2781 - accuracy: 0.51 - ETA: 4:54 - loss: 1.2782 - accuracy: 0.51 - ETA: 4:48 - loss: 1.2787 - accuracy: 0.51 - ETA: 4:42 - loss: 1.2789 - accuracy: 0.51 - ETA: 4:36 - loss: 1.2785 - accuracy: 0.51 - ETA: 4:30 - loss: 1.2781 - accuracy: 0.51 - ETA: 4:24 - loss: 1.2783 - accuracy: 0.51 - ETA: 4:18 - loss: 1.2784 - accuracy: 0.51 - ETA: 4:13 - loss: 1.2788 - accuracy: 0.51 - ETA: 4:07 - loss: 1.2789 - accuracy: 0.51 - ETA: 4:01 - loss: 1.2784 - accuracy: 0.51 - ETA: 3:55 - loss: 1.2782 - accuracy: 0.51 - ETA: 3:49 - loss: 1.2779 - accuracy: 0.51 - ETA: 3:43 - loss: 1.2784 - accuracy: 0.51 - ETA: 3:38 - loss: 1.2786 - accuracy: 0.51 - ETA: 3:32 - loss: 1.2785 - accuracy: 0.51 - ETA: 3:26 - loss: 1.2783 - accuracy: 0.51 - ETA: 3:20 - loss: 1.2780 - accuracy: 0.51 - ETA: 3:14 - loss: 1.2779 - accuracy: 0.51 - ETA: 3:09 - loss: 1.2780 - accuracy: 0.51 - ETA: 3:03 - loss: 1.2777 - accuracy: 0.51 - ETA: 2:57 - loss: 1.2775 - accuracy: 0.51 - ETA: 2:51 - loss: 1.2776 - accuracy: 0.51 - ETA: 2:46 - loss: 1.2770 - accuracy: 0.51 - ETA: 2:40 - loss: 1.2773 - accuracy: 0.51 - ETA: 2:34 - loss: 1.2775 - accuracy: 0.51 - ETA: 2:28 - loss: 1.2774 - accuracy: 0.51 - ETA: 2:22 - loss: 1.2773 - accuracy: 0.51 - ETA: 2:17 - loss: 1.2771 - accuracy: 0.51 - ETA: 2:11 - loss: 1.2773 - accuracy: 0.51 - ETA: 2:05 - loss: 1.2775 - accuracy: 0.51 - ETA: 1:59 - loss: 1.2774 - accuracy: 0.51 - ETA: 1:54 - loss: 1.2774 - accuracy: 0.51 - ETA: 1:48 - loss: 1.2773 - accuracy: 0.51 - ETA: 1:42 - loss: 1.2779 - accuracy: 0.51 - ETA: 1:36 - loss: 1.2782 - accuracy: 0.51 - ETA: 1:31 - loss: 1.2781 - accuracy: 0.51 - ETA: 1:25 - loss: 1.2782 - accuracy: 0.51 - ETA: 1:19 - loss: 1.2784 - accuracy: 0.51 - ETA: 1:13 - loss: 1.2786 - accuracy: 0.51 - ETA: 1:08 - loss: 1.2787 - accuracy: 0.51 - ETA: 1:02 - loss: 1.2787 - accuracy: 0.51 - ETA: 56s - loss: 1.2786 - accuracy: 0.5143 - ETA: 50s - loss: 1.2785 - accuracy: 0.514 - ETA: 45s - loss: 1.2784 - accuracy: 0.514 - ETA: 39s - loss: 1.2782 - accuracy: 0.514 - ETA: 33s - loss: 1.2781 - accuracy: 0.514 - ETA: 27s - loss: 1.2781 - accuracy: 0.514 - ETA: 22s - loss: 1.2786 - accuracy: 0.514 - ETA: 16s - loss: 1.2788 - accuracy: 0.514 - ETA: 10s - loss: 1.2787 - accuracy: 0.514 - ETA: 4s - loss: 1.2788 - accuracy: 0.514 - 740s 6ms/step - loss: 1.2788 - accuracy: 0.5144 - val_loss: 1.3057 - val_accuracy: 0.4922\n",
      "Epoch 7/10\n"
     ]
    },
    {
     "name": "stdout",
     "output_type": "stream",
     "text": [
      "124848/124848 [==============================] - ETA: 12:11 - loss: 1.3193 - accuracy: 0.492 - ETA: 11:51 - loss: 1.3137 - accuracy: 0.493 - ETA: 11:42 - loss: 1.3178 - accuracy: 0.490 - ETA: 11:32 - loss: 1.3054 - accuracy: 0.497 - ETA: 11:24 - loss: 1.3004 - accuracy: 0.500 - ETA: 11:15 - loss: 1.2961 - accuracy: 0.499 - ETA: 11:09 - loss: 1.2898 - accuracy: 0.503 - ETA: 11:05 - loss: 1.2886 - accuracy: 0.504 - ETA: 11:00 - loss: 1.2864 - accuracy: 0.506 - ETA: 10:54 - loss: 1.2876 - accuracy: 0.506 - ETA: 10:49 - loss: 1.2865 - accuracy: 0.506 - ETA: 10:42 - loss: 1.2847 - accuracy: 0.508 - ETA: 10:35 - loss: 1.2804 - accuracy: 0.510 - ETA: 10:29 - loss: 1.2799 - accuracy: 0.511 - ETA: 10:24 - loss: 1.2795 - accuracy: 0.511 - ETA: 10:19 - loss: 1.2800 - accuracy: 0.511 - ETA: 10:16 - loss: 1.2813 - accuracy: 0.511 - ETA: 10:10 - loss: 1.2813 - accuracy: 0.512 - ETA: 10:04 - loss: 1.2807 - accuracy: 0.512 - ETA: 9:58 - loss: 1.2815 - accuracy: 0.511 - ETA: 9:52 - loss: 1.2789 - accuracy: 0.51 - ETA: 9:46 - loss: 1.2800 - accuracy: 0.51 - ETA: 9:40 - loss: 1.2802 - accuracy: 0.51 - ETA: 9:34 - loss: 1.2800 - accuracy: 0.51 - ETA: 9:29 - loss: 1.2796 - accuracy: 0.51 - ETA: 9:24 - loss: 1.2785 - accuracy: 0.51 - ETA: 9:18 - loss: 1.2779 - accuracy: 0.51 - ETA: 9:12 - loss: 1.2783 - accuracy: 0.51 - ETA: 9:07 - loss: 1.2779 - accuracy: 0.51 - ETA: 9:01 - loss: 1.2783 - accuracy: 0.51 - ETA: 8:55 - loss: 1.2785 - accuracy: 0.51 - ETA: 8:50 - loss: 1.2792 - accuracy: 0.51 - ETA: 8:44 - loss: 1.2794 - accuracy: 0.51 - ETA: 8:38 - loss: 1.2786 - accuracy: 0.51 - ETA: 8:32 - loss: 1.2787 - accuracy: 0.51 - ETA: 8:27 - loss: 1.2792 - accuracy: 0.51 - ETA: 8:21 - loss: 1.2793 - accuracy: 0.51 - ETA: 8:15 - loss: 1.2784 - accuracy: 0.51 - ETA: 8:10 - loss: 1.2779 - accuracy: 0.51 - ETA: 8:04 - loss: 1.2772 - accuracy: 0.51 - ETA: 7:58 - loss: 1.2771 - accuracy: 0.51 - ETA: 7:53 - loss: 1.2765 - accuracy: 0.51 - ETA: 7:47 - loss: 1.2758 - accuracy: 0.51 - ETA: 7:41 - loss: 1.2770 - accuracy: 0.51 - ETA: 7:35 - loss: 1.2777 - accuracy: 0.51 - ETA: 7:30 - loss: 1.2772 - accuracy: 0.51 - ETA: 7:24 - loss: 1.2772 - accuracy: 0.51 - ETA: 7:18 - loss: 1.2777 - accuracy: 0.51 - ETA: 7:12 - loss: 1.2775 - accuracy: 0.51 - ETA: 7:06 - loss: 1.2770 - accuracy: 0.51 - ETA: 7:01 - loss: 1.2778 - accuracy: 0.51 - ETA: 6:55 - loss: 1.2779 - accuracy: 0.51 - ETA: 6:49 - loss: 1.2777 - accuracy: 0.51 - ETA: 6:44 - loss: 1.2775 - accuracy: 0.51 - ETA: 6:38 - loss: 1.2774 - accuracy: 0.51 - ETA: 6:32 - loss: 1.2775 - accuracy: 0.51 - ETA: 6:27 - loss: 1.2774 - accuracy: 0.51 - ETA: 6:21 - loss: 1.2778 - accuracy: 0.51 - ETA: 6:15 - loss: 1.2777 - accuracy: 0.51 - ETA: 6:10 - loss: 1.2777 - accuracy: 0.51 - ETA: 6:04 - loss: 1.2771 - accuracy: 0.51 - ETA: 5:58 - loss: 1.2767 - accuracy: 0.51 - ETA: 5:52 - loss: 1.2764 - accuracy: 0.51 - ETA: 5:47 - loss: 1.2761 - accuracy: 0.51 - ETA: 5:41 - loss: 1.2761 - accuracy: 0.51 - ETA: 5:35 - loss: 1.2767 - accuracy: 0.51 - ETA: 5:30 - loss: 1.2766 - accuracy: 0.51 - ETA: 5:24 - loss: 1.2773 - accuracy: 0.51 - ETA: 5:18 - loss: 1.2775 - accuracy: 0.51 - ETA: 5:12 - loss: 1.2774 - accuracy: 0.51 - ETA: 5:07 - loss: 1.2771 - accuracy: 0.51 - ETA: 5:01 - loss: 1.2772 - accuracy: 0.51 - ETA: 4:55 - loss: 1.2771 - accuracy: 0.51 - ETA: 4:50 - loss: 1.2768 - accuracy: 0.51 - ETA: 4:44 - loss: 1.2771 - accuracy: 0.51 - ETA: 4:39 - loss: 1.2777 - accuracy: 0.51 - ETA: 4:33 - loss: 1.2778 - accuracy: 0.51 - ETA: 4:27 - loss: 1.2781 - accuracy: 0.51 - ETA: 4:22 - loss: 1.2787 - accuracy: 0.51 - ETA: 4:16 - loss: 1.2789 - accuracy: 0.51 - ETA: 4:10 - loss: 1.2786 - accuracy: 0.51 - ETA: 4:05 - loss: 1.2787 - accuracy: 0.51 - ETA: 3:59 - loss: 1.2786 - accuracy: 0.51 - ETA: 3:53 - loss: 1.2787 - accuracy: 0.51 - ETA: 3:48 - loss: 1.2786 - accuracy: 0.51 - ETA: 3:42 - loss: 1.2782 - accuracy: 0.51 - ETA: 3:36 - loss: 1.2782 - accuracy: 0.51 - ETA: 3:30 - loss: 1.2780 - accuracy: 0.51 - ETA: 3:25 - loss: 1.2780 - accuracy: 0.51 - ETA: 3:19 - loss: 1.2775 - accuracy: 0.51 - ETA: 3:13 - loss: 1.2776 - accuracy: 0.51 - ETA: 3:08 - loss: 1.2778 - accuracy: 0.51 - ETA: 3:02 - loss: 1.2776 - accuracy: 0.51 - ETA: 2:56 - loss: 1.2774 - accuracy: 0.51 - ETA: 2:50 - loss: 1.2776 - accuracy: 0.51 - ETA: 2:45 - loss: 1.2777 - accuracy: 0.51 - ETA: 2:39 - loss: 1.2778 - accuracy: 0.51 - ETA: 2:33 - loss: 1.2778 - accuracy: 0.51 - ETA: 2:28 - loss: 1.2779 - accuracy: 0.51 - ETA: 2:22 - loss: 1.2782 - accuracy: 0.51 - ETA: 2:16 - loss: 1.2780 - accuracy: 0.51 - ETA: 2:10 - loss: 1.2782 - accuracy: 0.51 - ETA: 2:05 - loss: 1.2779 - accuracy: 0.51 - ETA: 1:59 - loss: 1.2779 - accuracy: 0.51 - ETA: 1:53 - loss: 1.2777 - accuracy: 0.51 - ETA: 1:48 - loss: 1.2779 - accuracy: 0.51 - ETA: 1:42 - loss: 1.2778 - accuracy: 0.51 - ETA: 1:36 - loss: 1.2781 - accuracy: 0.51 - ETA: 1:30 - loss: 1.2781 - accuracy: 0.51 - ETA: 1:25 - loss: 1.2781 - accuracy: 0.51 - ETA: 1:19 - loss: 1.2782 - accuracy: 0.51 - ETA: 1:13 - loss: 1.2786 - accuracy: 0.51 - ETA: 1:07 - loss: 1.2786 - accuracy: 0.51 - ETA: 1:02 - loss: 1.2789 - accuracy: 0.51 - ETA: 56s - loss: 1.2790 - accuracy: 0.5145 - ETA: 50s - loss: 1.2791 - accuracy: 0.514 - ETA: 45s - loss: 1.2792 - accuracy: 0.514 - ETA: 39s - loss: 1.2793 - accuracy: 0.514 - ETA: 33s - loss: 1.2791 - accuracy: 0.514 - ETA: 27s - loss: 1.2789 - accuracy: 0.514 - ETA: 22s - loss: 1.2789 - accuracy: 0.514 - ETA: 16s - loss: 1.2790 - accuracy: 0.514 - ETA: 10s - loss: 1.2789 - accuracy: 0.514 - ETA: 4s - loss: 1.2786 - accuracy: 0.514 - 740s 6ms/step - loss: 1.2788 - accuracy: 0.5144 - val_loss: 1.3055 - val_accuracy: 0.4922\n",
      "Epoch 8/10\n"
     ]
    },
    {
     "name": "stdout",
     "output_type": "stream",
     "text": [
      "124848/124848 [==============================] - ETA: 11:44 - loss: 1.3143 - accuracy: 0.504 - ETA: 11:45 - loss: 1.2820 - accuracy: 0.514 - ETA: 11:45 - loss: 1.2875 - accuracy: 0.513 - ETA: 11:38 - loss: 1.2874 - accuracy: 0.513 - ETA: 11:31 - loss: 1.2779 - accuracy: 0.518 - ETA: 11:25 - loss: 1.2799 - accuracy: 0.519 - ETA: 11:23 - loss: 1.2834 - accuracy: 0.514 - ETA: 11:16 - loss: 1.2856 - accuracy: 0.512 - ETA: 11:11 - loss: 1.2847 - accuracy: 0.512 - ETA: 11:04 - loss: 1.2833 - accuracy: 0.513 - ETA: 10:58 - loss: 1.2796 - accuracy: 0.515 - ETA: 10:52 - loss: 1.2797 - accuracy: 0.514 - ETA: 10:46 - loss: 1.2764 - accuracy: 0.516 - ETA: 10:40 - loss: 1.2757 - accuracy: 0.516 - ETA: 10:35 - loss: 1.2737 - accuracy: 0.518 - ETA: 10:29 - loss: 1.2752 - accuracy: 0.517 - ETA: 10:23 - loss: 1.2776 - accuracy: 0.516 - ETA: 10:17 - loss: 1.2764 - accuracy: 0.516 - ETA: 10:11 - loss: 1.2767 - accuracy: 0.517 - ETA: 10:05 - loss: 1.2785 - accuracy: 0.516 - ETA: 9:59 - loss: 1.2789 - accuracy: 0.516 - ETA: 9:53 - loss: 1.2780 - accuracy: 0.51 - ETA: 9:47 - loss: 1.2802 - accuracy: 0.51 - ETA: 9:41 - loss: 1.2789 - accuracy: 0.51 - ETA: 9:36 - loss: 1.2770 - accuracy: 0.51 - ETA: 9:31 - loss: 1.2784 - accuracy: 0.51 - ETA: 9:25 - loss: 1.2791 - accuracy: 0.51 - ETA: 9:19 - loss: 1.2791 - accuracy: 0.51 - ETA: 9:13 - loss: 1.2797 - accuracy: 0.51 - ETA: 9:07 - loss: 1.2803 - accuracy: 0.51 - ETA: 9:01 - loss: 1.2813 - accuracy: 0.51 - ETA: 8:55 - loss: 1.2820 - accuracy: 0.51 - ETA: 8:49 - loss: 1.2821 - accuracy: 0.51 - ETA: 8:43 - loss: 1.2823 - accuracy: 0.51 - ETA: 8:37 - loss: 1.2813 - accuracy: 0.51 - ETA: 8:31 - loss: 1.2811 - accuracy: 0.51 - ETA: 8:25 - loss: 1.2801 - accuracy: 0.51 - ETA: 8:19 - loss: 1.2816 - accuracy: 0.51 - ETA: 8:14 - loss: 1.2817 - accuracy: 0.51 - ETA: 8:08 - loss: 1.2816 - accuracy: 0.51 - ETA: 8:02 - loss: 1.2820 - accuracy: 0.51 - ETA: 7:56 - loss: 1.2820 - accuracy: 0.51 - ETA: 7:51 - loss: 1.2822 - accuracy: 0.51 - ETA: 7:45 - loss: 1.2820 - accuracy: 0.51 - ETA: 7:39 - loss: 1.2826 - accuracy: 0.51 - ETA: 7:33 - loss: 1.2824 - accuracy: 0.51 - ETA: 7:28 - loss: 1.2822 - accuracy: 0.51 - ETA: 7:22 - loss: 1.2827 - accuracy: 0.51 - ETA: 7:16 - loss: 1.2819 - accuracy: 0.51 - ETA: 7:10 - loss: 1.2830 - accuracy: 0.51 - ETA: 7:04 - loss: 1.2828 - accuracy: 0.51 - ETA: 6:59 - loss: 1.2818 - accuracy: 0.51 - ETA: 6:53 - loss: 1.2821 - accuracy: 0.51 - ETA: 6:47 - loss: 1.2825 - accuracy: 0.51 - ETA: 6:41 - loss: 1.2825 - accuracy: 0.51 - ETA: 6:36 - loss: 1.2834 - accuracy: 0.51 - ETA: 6:30 - loss: 1.2840 - accuracy: 0.51 - ETA: 6:24 - loss: 1.2836 - accuracy: 0.51 - ETA: 6:19 - loss: 1.2835 - accuracy: 0.51 - ETA: 6:13 - loss: 1.2839 - accuracy: 0.51 - ETA: 6:07 - loss: 1.2834 - accuracy: 0.51 - ETA: 6:01 - loss: 1.2832 - accuracy: 0.51 - ETA: 5:55 - loss: 1.2830 - accuracy: 0.51 - ETA: 5:49 - loss: 1.2834 - accuracy: 0.51 - ETA: 5:44 - loss: 1.2831 - accuracy: 0.51 - ETA: 5:38 - loss: 1.2834 - accuracy: 0.51 - ETA: 5:32 - loss: 1.2835 - accuracy: 0.51 - ETA: 5:26 - loss: 1.2829 - accuracy: 0.51 - ETA: 5:20 - loss: 1.2827 - accuracy: 0.51 - ETA: 5:15 - loss: 1.2825 - accuracy: 0.51 - ETA: 5:09 - loss: 1.2822 - accuracy: 0.51 - ETA: 5:03 - loss: 1.2812 - accuracy: 0.51 - ETA: 4:57 - loss: 1.2805 - accuracy: 0.51 - ETA: 4:51 - loss: 1.2802 - accuracy: 0.51 - ETA: 4:46 - loss: 1.2803 - accuracy: 0.51 - ETA: 4:40 - loss: 1.2804 - accuracy: 0.51 - ETA: 4:34 - loss: 1.2800 - accuracy: 0.51 - ETA: 4:28 - loss: 1.2794 - accuracy: 0.51 - ETA: 4:22 - loss: 1.2795 - accuracy: 0.51 - ETA: 4:17 - loss: 1.2797 - accuracy: 0.51 - ETA: 4:11 - loss: 1.2791 - accuracy: 0.51 - ETA: 4:05 - loss: 1.2794 - accuracy: 0.51 - ETA: 4:00 - loss: 1.2793 - accuracy: 0.51 - ETA: 3:55 - loss: 1.2792 - accuracy: 0.51 - ETA: 3:49 - loss: 1.2790 - accuracy: 0.51 - ETA: 3:44 - loss: 1.2788 - accuracy: 0.51 - ETA: 3:39 - loss: 1.2785 - accuracy: 0.51 - ETA: 3:33 - loss: 1.2788 - accuracy: 0.51 - ETA: 3:27 - loss: 1.2792 - accuracy: 0.51 - ETA: 3:21 - loss: 1.2792 - accuracy: 0.51 - ETA: 3:15 - loss: 1.2788 - accuracy: 0.51 - ETA: 3:10 - loss: 1.2789 - accuracy: 0.51 - ETA: 3:04 - loss: 1.2786 - accuracy: 0.51 - ETA: 2:58 - loss: 1.2789 - accuracy: 0.51 - ETA: 2:53 - loss: 1.2790 - accuracy: 0.51 - ETA: 2:47 - loss: 1.2783 - accuracy: 0.51 - ETA: 2:41 - loss: 1.2785 - accuracy: 0.51 - ETA: 2:35 - loss: 1.2790 - accuracy: 0.51 - ETA: 2:30 - loss: 1.2790 - accuracy: 0.51 - ETA: 2:25 - loss: 1.2790 - accuracy: 0.51 - ETA: 2:19 - loss: 1.2788 - accuracy: 0.51 - ETA: 2:13 - loss: 1.2787 - accuracy: 0.51 - ETA: 2:08 - loss: 1.2788 - accuracy: 0.51 - ETA: 2:02 - loss: 1.2784 - accuracy: 0.51 - ETA: 1:56 - loss: 1.2784 - accuracy: 0.51 - ETA: 1:50 - loss: 1.2783 - accuracy: 0.51 - ETA: 1:44 - loss: 1.2786 - accuracy: 0.51 - ETA: 1:38 - loss: 1.2789 - accuracy: 0.51 - ETA: 1:32 - loss: 1.2789 - accuracy: 0.51 - ETA: 1:26 - loss: 1.2792 - accuracy: 0.51 - ETA: 1:20 - loss: 1.2795 - accuracy: 0.51 - ETA: 1:15 - loss: 1.2797 - accuracy: 0.51 - ETA: 1:09 - loss: 1.2794 - accuracy: 0.51 - ETA: 1:04 - loss: 1.2796 - accuracy: 0.51 - ETA: 58s - loss: 1.2795 - accuracy: 0.5138 - ETA: 52s - loss: 1.2795 - accuracy: 0.513 - ETA: 46s - loss: 1.2793 - accuracy: 0.514 - ETA: 40s - loss: 1.2792 - accuracy: 0.514 - ETA: 34s - loss: 1.2792 - accuracy: 0.514 - ETA: 28s - loss: 1.2791 - accuracy: 0.514 - ETA: 22s - loss: 1.2792 - accuracy: 0.514 - ETA: 16s - loss: 1.2788 - accuracy: 0.514 - ETA: 10s - loss: 1.2789 - accuracy: 0.514 - ETA: 4s - loss: 1.2788 - accuracy: 0.514 - 760s 6ms/step - loss: 1.2785 - accuracy: 0.5144 - val_loss: 1.3064 - val_accuracy: 0.4922\n",
      "Epoch 9/10\n"
     ]
    },
    {
     "name": "stdout",
     "output_type": "stream",
     "text": [
      "124848/124848 [==============================] - ETA: 11:34 - loss: 1.2900 - accuracy: 0.494 - ETA: 12:45 - loss: 1.2839 - accuracy: 0.496 - ETA: 13:06 - loss: 1.2889 - accuracy: 0.503 - ETA: 12:25 - loss: 1.2869 - accuracy: 0.508 - ETA: 12:08 - loss: 1.2936 - accuracy: 0.503 - ETA: 11:45 - loss: 1.2947 - accuracy: 0.501 - ETA: 11:28 - loss: 1.2902 - accuracy: 0.504 - ETA: 11:19 - loss: 1.2883 - accuracy: 0.505 - ETA: 11:17 - loss: 1.2874 - accuracy: 0.507 - ETA: 11:10 - loss: 1.2892 - accuracy: 0.506 - ETA: 11:03 - loss: 1.2868 - accuracy: 0.508 - ETA: 10:57 - loss: 1.2833 - accuracy: 0.512 - ETA: 10:51 - loss: 1.2814 - accuracy: 0.513 - ETA: 10:41 - loss: 1.2828 - accuracy: 0.513 - ETA: 10:30 - loss: 1.2817 - accuracy: 0.513 - ETA: 10:21 - loss: 1.2817 - accuracy: 0.513 - ETA: 10:15 - loss: 1.2808 - accuracy: 0.514 - ETA: 10:10 - loss: 1.2834 - accuracy: 0.512 - ETA: 10:10 - loss: 1.2846 - accuracy: 0.511 - ETA: 10:03 - loss: 1.2832 - accuracy: 0.512 - ETA: 9:56 - loss: 1.2833 - accuracy: 0.513 - ETA: 9:49 - loss: 1.2847 - accuracy: 0.51 - ETA: 9:45 - loss: 1.2845 - accuracy: 0.51 - ETA: 9:42 - loss: 1.2840 - accuracy: 0.51 - ETA: 9:35 - loss: 1.2830 - accuracy: 0.51 - ETA: 9:28 - loss: 1.2817 - accuracy: 0.51 - ETA: 9:22 - loss: 1.2811 - accuracy: 0.51 - ETA: 9:18 - loss: 1.2806 - accuracy: 0.51 - ETA: 9:13 - loss: 1.2807 - accuracy: 0.51 - ETA: 9:06 - loss: 1.2815 - accuracy: 0.51 - ETA: 8:58 - loss: 1.2809 - accuracy: 0.51 - ETA: 8:51 - loss: 1.2809 - accuracy: 0.51 - ETA: 8:44 - loss: 1.2813 - accuracy: 0.51 - ETA: 8:40 - loss: 1.2814 - accuracy: 0.51 - ETA: 8:35 - loss: 1.2806 - accuracy: 0.51 - ETA: 8:30 - loss: 1.2807 - accuracy: 0.51 - ETA: 8:25 - loss: 1.2806 - accuracy: 0.51 - ETA: 8:19 - loss: 1.2804 - accuracy: 0.51 - ETA: 8:13 - loss: 1.2808 - accuracy: 0.51 - ETA: 8:08 - loss: 1.2806 - accuracy: 0.51 - ETA: 8:02 - loss: 1.2800 - accuracy: 0.51 - ETA: 7:56 - loss: 1.2804 - accuracy: 0.51 - ETA: 7:49 - loss: 1.2798 - accuracy: 0.51 - ETA: 7:43 - loss: 1.2793 - accuracy: 0.51 - ETA: 7:37 - loss: 1.2791 - accuracy: 0.51 - ETA: 7:30 - loss: 1.2791 - accuracy: 0.51 - ETA: 7:24 - loss: 1.2797 - accuracy: 0.51 - ETA: 7:18 - loss: 1.2803 - accuracy: 0.51 - ETA: 7:11 - loss: 1.2809 - accuracy: 0.51 - ETA: 7:05 - loss: 1.2810 - accuracy: 0.51 - ETA: 7:00 - loss: 1.2815 - accuracy: 0.51 - ETA: 6:54 - loss: 1.2809 - accuracy: 0.51 - ETA: 6:48 - loss: 1.2807 - accuracy: 0.51 - ETA: 6:42 - loss: 1.2804 - accuracy: 0.51 - ETA: 6:36 - loss: 1.2799 - accuracy: 0.51 - ETA: 6:30 - loss: 1.2800 - accuracy: 0.51 - ETA: 6:24 - loss: 1.2800 - accuracy: 0.51 - ETA: 6:17 - loss: 1.2793 - accuracy: 0.51 - ETA: 6:11 - loss: 1.2793 - accuracy: 0.51 - ETA: 6:05 - loss: 1.2796 - accuracy: 0.51 - ETA: 6:00 - loss: 1.2796 - accuracy: 0.51 - ETA: 5:55 - loss: 1.2795 - accuracy: 0.51 - ETA: 5:48 - loss: 1.2795 - accuracy: 0.51 - ETA: 5:42 - loss: 1.2793 - accuracy: 0.51 - ETA: 5:36 - loss: 1.2790 - accuracy: 0.51 - ETA: 5:31 - loss: 1.2786 - accuracy: 0.51 - ETA: 5:25 - loss: 1.2786 - accuracy: 0.51 - ETA: 5:19 - loss: 1.2787 - accuracy: 0.51 - ETA: 5:14 - loss: 1.2791 - accuracy: 0.51 - ETA: 5:09 - loss: 1.2793 - accuracy: 0.51 - ETA: 5:04 - loss: 1.2786 - accuracy: 0.51 - ETA: 4:58 - loss: 1.2787 - accuracy: 0.51 - ETA: 4:53 - loss: 1.2785 - accuracy: 0.51 - ETA: 4:47 - loss: 1.2782 - accuracy: 0.51 - ETA: 4:42 - loss: 1.2792 - accuracy: 0.51 - ETA: 4:36 - loss: 1.2793 - accuracy: 0.51 - ETA: 4:30 - loss: 1.2795 - accuracy: 0.51 - ETA: 4:25 - loss: 1.2799 - accuracy: 0.51 - ETA: 4:19 - loss: 1.2798 - accuracy: 0.51 - ETA: 4:14 - loss: 1.2790 - accuracy: 0.51 - ETA: 4:08 - loss: 1.2787 - accuracy: 0.51 - ETA: 4:02 - loss: 1.2784 - accuracy: 0.51 - ETA: 3:57 - loss: 1.2787 - accuracy: 0.51 - ETA: 3:51 - loss: 1.2786 - accuracy: 0.51 - ETA: 3:46 - loss: 1.2781 - accuracy: 0.51 - ETA: 3:40 - loss: 1.2779 - accuracy: 0.51 - ETA: 3:35 - loss: 1.2778 - accuracy: 0.51 - ETA: 3:29 - loss: 1.2775 - accuracy: 0.51 - ETA: 3:24 - loss: 1.2778 - accuracy: 0.51 - ETA: 3:18 - loss: 1.2779 - accuracy: 0.51 - ETA: 3:13 - loss: 1.2780 - accuracy: 0.51 - ETA: 3:07 - loss: 1.2782 - accuracy: 0.51 - ETA: 3:01 - loss: 1.2781 - accuracy: 0.51 - ETA: 2:56 - loss: 1.2779 - accuracy: 0.51 - ETA: 2:50 - loss: 1.2778 - accuracy: 0.51 - ETA: 2:44 - loss: 1.2779 - accuracy: 0.51 - ETA: 2:39 - loss: 1.2780 - accuracy: 0.51 - ETA: 2:33 - loss: 1.2783 - accuracy: 0.51 - ETA: 2:27 - loss: 1.2780 - accuracy: 0.51 - ETA: 2:22 - loss: 1.2779 - accuracy: 0.51 - ETA: 2:16 - loss: 1.2778 - accuracy: 0.51 - ETA: 2:10 - loss: 1.2774 - accuracy: 0.51 - ETA: 2:05 - loss: 1.2776 - accuracy: 0.51 - ETA: 1:59 - loss: 1.2780 - accuracy: 0.51 - ETA: 1:53 - loss: 1.2776 - accuracy: 0.51 - ETA: 1:48 - loss: 1.2771 - accuracy: 0.51 - ETA: 1:42 - loss: 1.2773 - accuracy: 0.51 - ETA: 1:36 - loss: 1.2773 - accuracy: 0.51 - ETA: 1:30 - loss: 1.2772 - accuracy: 0.51 - ETA: 1:25 - loss: 1.2775 - accuracy: 0.51 - ETA: 1:19 - loss: 1.2776 - accuracy: 0.51 - ETA: 1:13 - loss: 1.2779 - accuracy: 0.51 - ETA: 1:08 - loss: 1.2778 - accuracy: 0.51 - ETA: 1:02 - loss: 1.2780 - accuracy: 0.51 - ETA: 56s - loss: 1.2781 - accuracy: 0.5147 - ETA: 50s - loss: 1.2780 - accuracy: 0.514 - ETA: 45s - loss: 1.2780 - accuracy: 0.514 - ETA: 39s - loss: 1.2781 - accuracy: 0.514 - ETA: 33s - loss: 1.2781 - accuracy: 0.514 - ETA: 27s - loss: 1.2781 - accuracy: 0.514 - ETA: 22s - loss: 1.2783 - accuracy: 0.514 - ETA: 16s - loss: 1.2782 - accuracy: 0.514 - ETA: 10s - loss: 1.2784 - accuracy: 0.514 - ETA: 4s - loss: 1.2784 - accuracy: 0.514 - 741s 6ms/step - loss: 1.2786 - accuracy: 0.5144 - val_loss: 1.3057 - val_accuracy: 0.4922\n",
      "Epoch 10/10\n"
     ]
    },
    {
     "name": "stdout",
     "output_type": "stream",
     "text": [
      "124848/124848 [==============================] - ETA: 12:05 - loss: 1.2871 - accuracy: 0.513 - ETA: 11:56 - loss: 1.2747 - accuracy: 0.517 - ETA: 12:09 - loss: 1.2776 - accuracy: 0.515 - ETA: 11:59 - loss: 1.2808 - accuracy: 0.510 - ETA: 11:54 - loss: 1.2773 - accuracy: 0.516 - ETA: 11:48 - loss: 1.2749 - accuracy: 0.516 - ETA: 11:53 - loss: 1.2771 - accuracy: 0.516 - ETA: 11:40 - loss: 1.2803 - accuracy: 0.515 - ETA: 11:23 - loss: 1.2779 - accuracy: 0.517 - ETA: 11:14 - loss: 1.2740 - accuracy: 0.521 - ETA: 11:14 - loss: 1.2730 - accuracy: 0.523 - ETA: 11:25 - loss: 1.2717 - accuracy: 0.522 - ETA: 11:37 - loss: 1.2708 - accuracy: 0.522 - ETA: 11:50 - loss: 1.2705 - accuracy: 0.523 - ETA: 12:03 - loss: 1.2699 - accuracy: 0.524 - ETA: 12:14 - loss: 1.2706 - accuracy: 0.522 - ETA: 12:22 - loss: 1.2699 - accuracy: 0.523 - ETA: 12:27 - loss: 1.2725 - accuracy: 0.522 - ETA: 12:29 - loss: 1.2749 - accuracy: 0.521 - ETA: 12:36 - loss: 1.2755 - accuracy: 0.521 - ETA: 12:36 - loss: 1.2766 - accuracy: 0.520 - ETA: 12:34 - loss: 1.2762 - accuracy: 0.520 - ETA: 12:28 - loss: 1.2759 - accuracy: 0.519 - ETA: 12:20 - loss: 1.2775 - accuracy: 0.519 - ETA: 12:13 - loss: 1.2770 - accuracy: 0.520 - ETA: 12:01 - loss: 1.2767 - accuracy: 0.519 - ETA: 11:56 - loss: 1.2757 - accuracy: 0.520 - ETA: 11:47 - loss: 1.2760 - accuracy: 0.519 - ETA: 11:35 - loss: 1.2757 - accuracy: 0.519 - ETA: 11:24 - loss: 1.2764 - accuracy: 0.518 - ETA: 11:18 - loss: 1.2765 - accuracy: 0.518 - ETA: 11:09 - loss: 1.2761 - accuracy: 0.518 - ETA: 10:57 - loss: 1.2760 - accuracy: 0.517 - ETA: 10:47 - loss: 1.2761 - accuracy: 0.517 - ETA: 10:37 - loss: 1.2766 - accuracy: 0.517 - ETA: 10:27 - loss: 1.2771 - accuracy: 0.517 - ETA: 10:17 - loss: 1.2762 - accuracy: 0.517 - ETA: 10:06 - loss: 1.2759 - accuracy: 0.517 - ETA: 9:55 - loss: 1.2748 - accuracy: 0.518 - ETA: 9:45 - loss: 1.2757 - accuracy: 0.51 - ETA: 9:34 - loss: 1.2762 - accuracy: 0.51 - ETA: 9:25 - loss: 1.2759 - accuracy: 0.51 - ETA: 9:15 - loss: 1.2766 - accuracy: 0.51 - ETA: 9:07 - loss: 1.2764 - accuracy: 0.51 - ETA: 8:58 - loss: 1.2762 - accuracy: 0.51 - ETA: 8:49 - loss: 1.2762 - accuracy: 0.51 - ETA: 8:40 - loss: 1.2765 - accuracy: 0.51 - ETA: 8:31 - loss: 1.2770 - accuracy: 0.51 - ETA: 8:23 - loss: 1.2775 - accuracy: 0.51 - ETA: 8:15 - loss: 1.2777 - accuracy: 0.51 - ETA: 8:07 - loss: 1.2778 - accuracy: 0.51 - ETA: 7:59 - loss: 1.2771 - accuracy: 0.51 - ETA: 7:52 - loss: 1.2777 - accuracy: 0.51 - ETA: 7:45 - loss: 1.2768 - accuracy: 0.51 - ETA: 7:39 - loss: 1.2771 - accuracy: 0.51 - ETA: 7:33 - loss: 1.2765 - accuracy: 0.51 - ETA: 7:26 - loss: 1.2764 - accuracy: 0.51 - ETA: 7:19 - loss: 1.2763 - accuracy: 0.51 - ETA: 7:12 - loss: 1.2764 - accuracy: 0.51 - ETA: 7:05 - loss: 1.2772 - accuracy: 0.51 - ETA: 6:58 - loss: 1.2774 - accuracy: 0.51 - ETA: 6:51 - loss: 1.2773 - accuracy: 0.51 - ETA: 6:44 - loss: 1.2776 - accuracy: 0.51 - ETA: 6:37 - loss: 1.2777 - accuracy: 0.51 - ETA: 6:29 - loss: 1.2782 - accuracy: 0.51 - ETA: 6:22 - loss: 1.2775 - accuracy: 0.51 - ETA: 6:15 - loss: 1.2771 - accuracy: 0.51 - ETA: 6:08 - loss: 1.2771 - accuracy: 0.51 - ETA: 6:02 - loss: 1.2773 - accuracy: 0.51 - ETA: 5:55 - loss: 1.2774 - accuracy: 0.51 - ETA: 5:48 - loss: 1.2777 - accuracy: 0.51 - ETA: 5:41 - loss: 1.2772 - accuracy: 0.51 - ETA: 5:34 - loss: 1.2775 - accuracy: 0.51 - ETA: 5:26 - loss: 1.2778 - accuracy: 0.51 - ETA: 5:19 - loss: 1.2781 - accuracy: 0.51 - ETA: 5:12 - loss: 1.2777 - accuracy: 0.51 - ETA: 5:06 - loss: 1.2782 - accuracy: 0.51 - ETA: 4:59 - loss: 1.2778 - accuracy: 0.51 - ETA: 4:53 - loss: 1.2773 - accuracy: 0.51 - ETA: 4:46 - loss: 1.2772 - accuracy: 0.51 - ETA: 4:39 - loss: 1.2770 - accuracy: 0.51 - ETA: 4:33 - loss: 1.2768 - accuracy: 0.51 - ETA: 4:26 - loss: 1.2772 - accuracy: 0.51 - ETA: 4:20 - loss: 1.2773 - accuracy: 0.51 - ETA: 4:13 - loss: 1.2773 - accuracy: 0.51 - ETA: 4:07 - loss: 1.2778 - accuracy: 0.51 - ETA: 4:00 - loss: 1.2781 - accuracy: 0.51 - ETA: 3:53 - loss: 1.2778 - accuracy: 0.51 - ETA: 3:47 - loss: 1.2778 - accuracy: 0.51 - ETA: 3:40 - loss: 1.2774 - accuracy: 0.51 - ETA: 3:34 - loss: 1.2772 - accuracy: 0.51 - ETA: 3:27 - loss: 1.2775 - accuracy: 0.51 - ETA: 3:20 - loss: 1.2778 - accuracy: 0.51 - ETA: 3:14 - loss: 1.2776 - accuracy: 0.51 - ETA: 3:07 - loss: 1.2777 - accuracy: 0.51 - ETA: 3:01 - loss: 1.2775 - accuracy: 0.51 - ETA: 2:54 - loss: 1.2775 - accuracy: 0.51 - ETA: 2:48 - loss: 1.2769 - accuracy: 0.51 - ETA: 2:42 - loss: 1.2768 - accuracy: 0.51 - ETA: 2:35 - loss: 1.2774 - accuracy: 0.51 - ETA: 2:29 - loss: 1.2774 - accuracy: 0.51 - ETA: 2:23 - loss: 1.2773 - accuracy: 0.51 - ETA: 2:16 - loss: 1.2773 - accuracy: 0.51 - ETA: 2:10 - loss: 1.2772 - accuracy: 0.51 - ETA: 2:04 - loss: 1.2771 - accuracy: 0.51 - ETA: 1:57 - loss: 1.2772 - accuracy: 0.51 - ETA: 1:51 - loss: 1.2773 - accuracy: 0.51 - ETA: 1:45 - loss: 1.2777 - accuracy: 0.51 - ETA: 1:38 - loss: 1.2776 - accuracy: 0.51 - ETA: 1:32 - loss: 1.2782 - accuracy: 0.51 - ETA: 1:26 - loss: 1.2784 - accuracy: 0.51 - ETA: 1:19 - loss: 1.2785 - accuracy: 0.51 - ETA: 1:13 - loss: 1.2787 - accuracy: 0.51 - ETA: 1:07 - loss: 1.2786 - accuracy: 0.51 - ETA: 1:01 - loss: 1.2784 - accuracy: 0.51 - ETA: 54s - loss: 1.2784 - accuracy: 0.5148 - ETA: 48s - loss: 1.2786 - accuracy: 0.514 - ETA: 42s - loss: 1.2785 - accuracy: 0.514 - ETA: 36s - loss: 1.2786 - accuracy: 0.514 - ETA: 30s - loss: 1.2786 - accuracy: 0.514 - ETA: 23s - loss: 1.2787 - accuracy: 0.514 - ETA: 17s - loss: 1.2787 - accuracy: 0.514 - ETA: 11s - loss: 1.2785 - accuracy: 0.514 - ETA: 5s - loss: 1.2787 - accuracy: 0.514 - 799s 6ms/step - loss: 1.2786 - accuracy: 0.5144 - val_loss: 1.3056 - val_accuracy: 0.4922\n"
     ]
    },
    {
     "data": {
      "text/plain": [
       "<keras.callbacks.callbacks.History at 0x2a98c93c6c8>"
      ]
     },
     "execution_count": 40,
     "metadata": {},
     "output_type": "execute_result"
    }
   ],
   "source": [
    "# train for N iterations\n",
    "iterations = 10 \n",
    "model.fit(xtrain_padded, ytrain_categorical, epochs = iterations, validation_split=0.2, batch_size=1000, verbose = 1)"
   ]
  },
  {
   "cell_type": "code",
   "execution_count": 242,
   "metadata": {},
   "outputs": [],
   "source": [
    "model.save('kaggle01.h5')"
   ]
  },
  {
   "cell_type": "code",
   "execution_count": null,
   "metadata": {},
   "outputs": [],
   "source": [
    "model.load('kaggle01.h5')"
   ]
  },
  {
   "cell_type": "code",
   "execution_count": 41,
   "metadata": {},
   "outputs": [],
   "source": [
    "path = \"data/test.tsv\"\n",
    "with open(path, 'rt') as csvfile:\n",
    "    reader = csv.reader(csvfile, delimiter='\\t')\n",
    "    data = np.array(list(reader))\n",
    "xtest = data[1:,:][:,2]"
   ]
  },
  {
   "cell_type": "code",
   "execution_count": 42,
   "metadata": {},
   "outputs": [],
   "source": [
    "MAX_NUM_WORDS = 16000\n",
    "# tokenizer = Tokenizer(num_words = MAX_NUM_WORDS)\n",
    "# tokenizer.fit_on_texts(xtest)\n",
    "#DONT RE-FIT THE TOKENIZER\n",
    "sequences = tokenizer.texts_to_sequences(xtest)\n",
    "\n",
    "#MAX_SEQUENCE_LENGTH = len(max(xtest, key = len))\n",
    "xtest_padded = pad_sequences(sequences, maxlen=MAX_SEQUENCE_LENGTH, padding = \"post\")"
   ]
  },
  {
   "cell_type": "code",
   "execution_count": 43,
   "metadata": {},
   "outputs": [],
   "source": [
    "preds = model.predict(xtest_padded)"
   ]
  },
  {
   "cell_type": "markdown",
   "metadata": {},
   "source": [
    "**TODO: check whether sentiment=2 is overrepresented in training data**"
   ]
  },
  {
   "cell_type": "code",
   "execution_count": 44,
   "metadata": {},
   "outputs": [
    {
     "data": {
      "text/plain": [
       "array([0.04572212, 0.17300108, 0.5120085 , 0.21014974, 0.05911857],\n",
       "      dtype=float32)"
      ]
     },
     "execution_count": 44,
     "metadata": {},
     "output_type": "execute_result"
    }
   ],
   "source": [
    "preds[9]"
   ]
  },
  {
   "cell_type": "code",
   "execution_count": 47,
   "metadata": {},
   "outputs": [
    {
     "data": {
      "text/plain": [
       "[1, [...], 3]"
      ]
     },
     "execution_count": 47,
     "metadata": {},
     "output_type": "execute_result"
    }
   ],
   "source": [
    "d = [1,2,3]\n",
    "d[1]=d\n",
    "d"
   ]
  },
  {
   "cell_type": "code",
   "execution_count": null,
   "metadata": {},
   "outputs": [],
   "source": []
  }
 ],
 "metadata": {
  "kernelspec": {
   "display_name": "Python 3",
   "language": "python",
   "name": "python3"
  },
  "language_info": {
   "codemirror_mode": {
    "name": "ipython",
    "version": 3
   },
   "file_extension": ".py",
   "mimetype": "text/x-python",
   "name": "python",
   "nbconvert_exporter": "python",
   "pygments_lexer": "ipython3",
   "version": "3.7.4"
  },
  "varInspector": {
   "cols": {
    "lenName": 16,
    "lenType": 16,
    "lenVar": 40
   },
   "kernels_config": {
    "python": {
     "delete_cmd_postfix": "",
     "delete_cmd_prefix": "del ",
     "library": "var_list.py",
     "varRefreshCmd": "print(var_dic_list())"
    },
    "r": {
     "delete_cmd_postfix": ") ",
     "delete_cmd_prefix": "rm(",
     "library": "var_list.r",
     "varRefreshCmd": "cat(var_dic_list()) "
    }
   },
   "types_to_exclude": [
    "module",
    "function",
    "builtin_function_or_method",
    "instance",
    "_Feature"
   ],
   "window_display": false
  }
 },
 "nbformat": 4,
 "nbformat_minor": 2
}
